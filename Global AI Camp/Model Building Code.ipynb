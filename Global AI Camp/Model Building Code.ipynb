{
 "cells": [
  {
   "cell_type": "code",
   "execution_count": 181,
   "metadata": {},
   "outputs": [],
   "source": [
    "#G2M insight for Cab Investment firm"
   ]
  },
  {
   "cell_type": "code",
   "execution_count": 227,
   "metadata": {},
   "outputs": [],
   "source": [
    "import numpy as np\n",
    "import pandas as pd\n",
    "import matplotlib.pyplot as plt\n",
    "%matplotlib inline\n",
    "import seaborn as sns\n",
    "import datetime\n",
    "from sklearn.model_selection import train_test_split\n",
    "from sklearn.linear_model import LinearRegression\n",
    "from sklearn.model_selection import cross_val_score\n",
    "from sklearn.metrics import mean_squared_error, accuracy_score, classification_report\n",
    "from sklearn.tree import DecisionTreeRegressor\n",
    "from sklearn.metrics import roc_curve\n",
    "from sklearn.ensemble import RandomForestRegressor"
   ]
  },
  {
   "cell_type": "code",
   "execution_count": 228,
   "metadata": {},
   "outputs": [],
   "source": [
    "cab_data = pd.read_csv(\"C:/Users/HAZARIKA/Desktop/cab_data.csv\")\n",
    "TransactionID_data = pd.read_csv(\"C:/Users/HAZARIKA/Desktop/Transaction_ID.csv\")\n",
    "City_data = pd.read_csv(\"C:/Users/HAZARIKA/Desktop/City.csv\")\n",
    "CustomerID_data = pd.read_csv(\"C:/Users/HAZARIKA/Desktop/Customer_ID.csv\")"
   ]
  },
  {
   "cell_type": "code",
   "execution_count": 229,
   "metadata": {},
   "outputs": [
    {
     "data": {
      "text/html": [
       "<div>\n",
       "<style scoped>\n",
       "    .dataframe tbody tr th:only-of-type {\n",
       "        vertical-align: middle;\n",
       "    }\n",
       "\n",
       "    .dataframe tbody tr th {\n",
       "        vertical-align: top;\n",
       "    }\n",
       "\n",
       "    .dataframe thead th {\n",
       "        text-align: right;\n",
       "    }\n",
       "</style>\n",
       "<table border=\"1\" class=\"dataframe\">\n",
       "  <thead>\n",
       "    <tr style=\"text-align: right;\">\n",
       "      <th></th>\n",
       "      <th>Transaction ID</th>\n",
       "      <th>Date of Travel</th>\n",
       "      <th>Company</th>\n",
       "      <th>City</th>\n",
       "      <th>KM Travelled</th>\n",
       "      <th>Price Charged</th>\n",
       "      <th>Cost of Trip</th>\n",
       "    </tr>\n",
       "  </thead>\n",
       "  <tbody>\n",
       "    <tr>\n",
       "      <th>0</th>\n",
       "      <td>10000011</td>\n",
       "      <td>08/01/2016</td>\n",
       "      <td>Pink Cab</td>\n",
       "      <td>ATLANTA GA</td>\n",
       "      <td>30.45</td>\n",
       "      <td>370.95</td>\n",
       "      <td>313.635</td>\n",
       "    </tr>\n",
       "    <tr>\n",
       "      <th>1</th>\n",
       "      <td>10000012</td>\n",
       "      <td>06/01/2016</td>\n",
       "      <td>Pink Cab</td>\n",
       "      <td>ATLANTA GA</td>\n",
       "      <td>28.62</td>\n",
       "      <td>358.52</td>\n",
       "      <td>334.854</td>\n",
       "    </tr>\n",
       "    <tr>\n",
       "      <th>2</th>\n",
       "      <td>10000013</td>\n",
       "      <td>02/01/2016</td>\n",
       "      <td>Pink Cab</td>\n",
       "      <td>ATLANTA GA</td>\n",
       "      <td>9.04</td>\n",
       "      <td>125.20</td>\n",
       "      <td>97.632</td>\n",
       "    </tr>\n",
       "    <tr>\n",
       "      <th>3</th>\n",
       "      <td>10000014</td>\n",
       "      <td>07/01/2016</td>\n",
       "      <td>Pink Cab</td>\n",
       "      <td>ATLANTA GA</td>\n",
       "      <td>33.17</td>\n",
       "      <td>377.40</td>\n",
       "      <td>351.602</td>\n",
       "    </tr>\n",
       "    <tr>\n",
       "      <th>4</th>\n",
       "      <td>10000015</td>\n",
       "      <td>03/01/2016</td>\n",
       "      <td>Pink Cab</td>\n",
       "      <td>ATLANTA GA</td>\n",
       "      <td>8.73</td>\n",
       "      <td>114.62</td>\n",
       "      <td>97.776</td>\n",
       "    </tr>\n",
       "  </tbody>\n",
       "</table>\n",
       "</div>"
      ],
      "text/plain": [
       "   Transaction ID Date of Travel   Company        City  KM Travelled  \\\n",
       "0        10000011     08/01/2016  Pink Cab  ATLANTA GA         30.45   \n",
       "1        10000012     06/01/2016  Pink Cab  ATLANTA GA         28.62   \n",
       "2        10000013     02/01/2016  Pink Cab  ATLANTA GA          9.04   \n",
       "3        10000014     07/01/2016  Pink Cab  ATLANTA GA         33.17   \n",
       "4        10000015     03/01/2016  Pink Cab  ATLANTA GA          8.73   \n",
       "\n",
       "   Price Charged  Cost of Trip  \n",
       "0         370.95       313.635  \n",
       "1         358.52       334.854  \n",
       "2         125.20        97.632  \n",
       "3         377.40       351.602  \n",
       "4         114.62        97.776  "
      ]
     },
     "execution_count": 229,
     "metadata": {},
     "output_type": "execute_result"
    }
   ],
   "source": [
    "cab_data.head()"
   ]
  },
  {
   "cell_type": "code",
   "execution_count": 230,
   "metadata": {},
   "outputs": [
    {
     "name": "stdout",
     "output_type": "stream",
     "text": [
      "<class 'pandas.core.frame.DataFrame'>\n",
      "RangeIndex: 359392 entries, 0 to 359391\n",
      "Data columns (total 7 columns):\n",
      " #   Column          Non-Null Count   Dtype  \n",
      "---  ------          --------------   -----  \n",
      " 0   Transaction ID  359392 non-null  int64  \n",
      " 1   Date of Travel  359392 non-null  object \n",
      " 2   Company         359392 non-null  object \n",
      " 3   City            359392 non-null  object \n",
      " 4   KM Travelled    359392 non-null  float64\n",
      " 5   Price Charged   359392 non-null  float64\n",
      " 6   Cost of Trip    359392 non-null  float64\n",
      "dtypes: float64(3), int64(1), object(3)\n",
      "memory usage: 19.2+ MB\n"
     ]
    }
   ],
   "source": [
    "cab_data.info()"
   ]
  },
  {
   "cell_type": "code",
   "execution_count": 231,
   "metadata": {},
   "outputs": [
    {
     "data": {
      "text/plain": [
       "Transaction ID    0\n",
       "Date of Travel    0\n",
       "Company           0\n",
       "City              0\n",
       "KM Travelled      0\n",
       "Price Charged     0\n",
       "Cost of Trip      0\n",
       "dtype: int64"
      ]
     },
     "execution_count": 231,
     "metadata": {},
     "output_type": "execute_result"
    }
   ],
   "source": [
    "cab_data.isnull().sum()"
   ]
  },
  {
   "cell_type": "code",
   "execution_count": 232,
   "metadata": {},
   "outputs": [
    {
     "data": {
      "text/plain": [
       "Transaction ID    0\n",
       "Customer ID       0\n",
       "Payment_Mode      0\n",
       "dtype: int64"
      ]
     },
     "execution_count": 232,
     "metadata": {},
     "output_type": "execute_result"
    }
   ],
   "source": [
    "TransactionID_data.isnull().sum()"
   ]
  },
  {
   "cell_type": "code",
   "execution_count": 233,
   "metadata": {},
   "outputs": [
    {
     "data": {
      "text/plain": [
       "City          0\n",
       "Population    0\n",
       "Users         0\n",
       "dtype: int64"
      ]
     },
     "execution_count": 233,
     "metadata": {},
     "output_type": "execute_result"
    }
   ],
   "source": [
    "City_data.isnull().sum()"
   ]
  },
  {
   "cell_type": "code",
   "execution_count": 234,
   "metadata": {},
   "outputs": [
    {
     "data": {
      "text/plain": [
       "Customer ID           0\n",
       "Gender                0\n",
       "Age                   0\n",
       "Income (USD/Month)    0\n",
       "dtype: int64"
      ]
     },
     "execution_count": 234,
     "metadata": {},
     "output_type": "execute_result"
    }
   ],
   "source": [
    "CustomerID_data.isnull().sum()"
   ]
  },
  {
   "cell_type": "code",
   "execution_count": 235,
   "metadata": {},
   "outputs": [],
   "source": [
    "for col in cab_data.columns:\n",
    "    if ' ' in col:\n",
    "        cab_data = cab_data.rename(columns={col:col.replace(' ','_')})"
   ]
  },
  {
   "cell_type": "code",
   "execution_count": 236,
   "metadata": {},
   "outputs": [],
   "source": [
    "for col in TransactionID_data.columns:\n",
    "    if ' ' in col:\n",
    "        TransactionID_data = TransactionID_data.rename(columns={col:col.replace(' ','_')})"
   ]
  },
  {
   "cell_type": "code",
   "execution_count": 237,
   "metadata": {},
   "outputs": [],
   "source": [
    "for col in CustomerID_data.columns:\n",
    "    if ' ' in col:\n",
    "        CustomerID_data = CustomerID_data.rename(columns={col:col.replace(' ','_')})"
   ]
  },
  {
   "cell_type": "code",
   "execution_count": 238,
   "metadata": {},
   "outputs": [],
   "source": [
    "cab_data['Date_of_Travel'] = pd.to_datetime(cab_data['Date_of_Travel'], format='%d/%m/%Y')"
   ]
  },
  {
   "cell_type": "code",
   "execution_count": 239,
   "metadata": {},
   "outputs": [],
   "source": [
    "months=[]\n",
    "years =[]\n",
    "for i in range(len(cab_data['Date_of_Travel'])):\n",
    "    months.append(cab_data['Date_of_Travel'][i].month)\n",
    "    years.append(cab_data['Date_of_Travel'][i].year)\n",
    "cab_data['Month'] = months\n",
    "cab_data['Year'] = years\n",
    "\n",
    "cab_data.drop('Date_of_Travel', axis=1, inplace=True)"
   ]
  },
  {
   "cell_type": "code",
   "execution_count": 240,
   "metadata": {},
   "outputs": [],
   "source": [
    "# before doing EDA, let's split the dataset into Pink Cab and Yellow Cab\n",
    "PinkCab = cab_data[cab_data['Company']=='Pink Cab']\n",
    "YellowCab = cab_data[cab_data['Company']=='Yellow Cab']"
   ]
  },
  {
   "cell_type": "code",
   "execution_count": 269,
   "metadata": {},
   "outputs": [
    {
     "data": {
      "text/html": [
       "<div>\n",
       "<style scoped>\n",
       "    .dataframe tbody tr th:only-of-type {\n",
       "        vertical-align: middle;\n",
       "    }\n",
       "\n",
       "    .dataframe tbody tr th {\n",
       "        vertical-align: top;\n",
       "    }\n",
       "\n",
       "    .dataframe thead th {\n",
       "        text-align: right;\n",
       "    }\n",
       "</style>\n",
       "<table border=\"1\" class=\"dataframe\">\n",
       "  <thead>\n",
       "    <tr style=\"text-align: right;\">\n",
       "      <th></th>\n",
       "      <th>Company</th>\n",
       "      <th>City</th>\n",
       "      <th>KM_Travelled</th>\n",
       "      <th>Price_Charged</th>\n",
       "      <th>Cost_of_Trip</th>\n",
       "      <th>Month</th>\n",
       "      <th>Year</th>\n",
       "      <th>Customer_ID</th>\n",
       "      <th>Payment_Mode</th>\n",
       "    </tr>\n",
       "    <tr>\n",
       "      <th>Transaction_ID</th>\n",
       "      <th></th>\n",
       "      <th></th>\n",
       "      <th></th>\n",
       "      <th></th>\n",
       "      <th></th>\n",
       "      <th></th>\n",
       "      <th></th>\n",
       "      <th></th>\n",
       "      <th></th>\n",
       "    </tr>\n",
       "  </thead>\n",
       "  <tbody>\n",
       "    <tr>\n",
       "      <th>10000011</th>\n",
       "      <td>Pink Cab</td>\n",
       "      <td>ATLANTA GA</td>\n",
       "      <td>30.45</td>\n",
       "      <td>370.95</td>\n",
       "      <td>313.6350</td>\n",
       "      <td>1</td>\n",
       "      <td>2016</td>\n",
       "      <td>29290</td>\n",
       "      <td>Card</td>\n",
       "    </tr>\n",
       "    <tr>\n",
       "      <th>10000012</th>\n",
       "      <td>Pink Cab</td>\n",
       "      <td>ATLANTA GA</td>\n",
       "      <td>28.62</td>\n",
       "      <td>358.52</td>\n",
       "      <td>334.8540</td>\n",
       "      <td>1</td>\n",
       "      <td>2016</td>\n",
       "      <td>27703</td>\n",
       "      <td>Card</td>\n",
       "    </tr>\n",
       "    <tr>\n",
       "      <th>10000013</th>\n",
       "      <td>Pink Cab</td>\n",
       "      <td>ATLANTA GA</td>\n",
       "      <td>9.04</td>\n",
       "      <td>125.20</td>\n",
       "      <td>97.6320</td>\n",
       "      <td>1</td>\n",
       "      <td>2016</td>\n",
       "      <td>28712</td>\n",
       "      <td>Cash</td>\n",
       "    </tr>\n",
       "    <tr>\n",
       "      <th>10000014</th>\n",
       "      <td>Pink Cab</td>\n",
       "      <td>ATLANTA GA</td>\n",
       "      <td>33.17</td>\n",
       "      <td>377.40</td>\n",
       "      <td>351.6020</td>\n",
       "      <td>1</td>\n",
       "      <td>2016</td>\n",
       "      <td>28020</td>\n",
       "      <td>Cash</td>\n",
       "    </tr>\n",
       "    <tr>\n",
       "      <th>10000015</th>\n",
       "      <td>Pink Cab</td>\n",
       "      <td>ATLANTA GA</td>\n",
       "      <td>8.73</td>\n",
       "      <td>114.62</td>\n",
       "      <td>97.7760</td>\n",
       "      <td>1</td>\n",
       "      <td>2016</td>\n",
       "      <td>27182</td>\n",
       "      <td>Card</td>\n",
       "    </tr>\n",
       "    <tr>\n",
       "      <th>...</th>\n",
       "      <td>...</td>\n",
       "      <td>...</td>\n",
       "      <td>...</td>\n",
       "      <td>...</td>\n",
       "      <td>...</td>\n",
       "      <td>...</td>\n",
       "      <td>...</td>\n",
       "      <td>...</td>\n",
       "      <td>...</td>\n",
       "    </tr>\n",
       "    <tr>\n",
       "      <th>10440101</th>\n",
       "      <td>Yellow Cab</td>\n",
       "      <td>WASHINGTON DC</td>\n",
       "      <td>4.80</td>\n",
       "      <td>69.24</td>\n",
       "      <td>63.3600</td>\n",
       "      <td>1</td>\n",
       "      <td>2018</td>\n",
       "      <td>52392</td>\n",
       "      <td>Cash</td>\n",
       "    </tr>\n",
       "    <tr>\n",
       "      <th>10440104</th>\n",
       "      <td>Yellow Cab</td>\n",
       "      <td>WASHINGTON DC</td>\n",
       "      <td>8.40</td>\n",
       "      <td>113.75</td>\n",
       "      <td>106.8480</td>\n",
       "      <td>1</td>\n",
       "      <td>2018</td>\n",
       "      <td>53286</td>\n",
       "      <td>Cash</td>\n",
       "    </tr>\n",
       "    <tr>\n",
       "      <th>10440105</th>\n",
       "      <td>Yellow Cab</td>\n",
       "      <td>WASHINGTON DC</td>\n",
       "      <td>27.75</td>\n",
       "      <td>437.07</td>\n",
       "      <td>349.6500</td>\n",
       "      <td>1</td>\n",
       "      <td>2018</td>\n",
       "      <td>52265</td>\n",
       "      <td>Cash</td>\n",
       "    </tr>\n",
       "    <tr>\n",
       "      <th>10440106</th>\n",
       "      <td>Yellow Cab</td>\n",
       "      <td>WASHINGTON DC</td>\n",
       "      <td>8.80</td>\n",
       "      <td>146.19</td>\n",
       "      <td>114.0480</td>\n",
       "      <td>1</td>\n",
       "      <td>2018</td>\n",
       "      <td>52175</td>\n",
       "      <td>Card</td>\n",
       "    </tr>\n",
       "    <tr>\n",
       "      <th>10440107</th>\n",
       "      <td>Yellow Cab</td>\n",
       "      <td>WASHINGTON DC</td>\n",
       "      <td>12.76</td>\n",
       "      <td>191.58</td>\n",
       "      <td>177.6192</td>\n",
       "      <td>1</td>\n",
       "      <td>2018</td>\n",
       "      <td>52917</td>\n",
       "      <td>Card</td>\n",
       "    </tr>\n",
       "  </tbody>\n",
       "</table>\n",
       "<p>359392 rows × 9 columns</p>\n",
       "</div>"
      ],
      "text/plain": [
       "                   Company           City  KM_Travelled  Price_Charged  \\\n",
       "Transaction_ID                                                           \n",
       "10000011          Pink Cab     ATLANTA GA         30.45         370.95   \n",
       "10000012          Pink Cab     ATLANTA GA         28.62         358.52   \n",
       "10000013          Pink Cab     ATLANTA GA          9.04         125.20   \n",
       "10000014          Pink Cab     ATLANTA GA         33.17         377.40   \n",
       "10000015          Pink Cab     ATLANTA GA          8.73         114.62   \n",
       "...                    ...            ...           ...            ...   \n",
       "10440101        Yellow Cab  WASHINGTON DC          4.80          69.24   \n",
       "10440104        Yellow Cab  WASHINGTON DC          8.40         113.75   \n",
       "10440105        Yellow Cab  WASHINGTON DC         27.75         437.07   \n",
       "10440106        Yellow Cab  WASHINGTON DC          8.80         146.19   \n",
       "10440107        Yellow Cab  WASHINGTON DC         12.76         191.58   \n",
       "\n",
       "                Cost_of_Trip  Month  Year  Customer_ID Payment_Mode  \n",
       "Transaction_ID                                                       \n",
       "10000011            313.6350      1  2016        29290         Card  \n",
       "10000012            334.8540      1  2016        27703         Card  \n",
       "10000013             97.6320      1  2016        28712         Cash  \n",
       "10000014            351.6020      1  2016        28020         Cash  \n",
       "10000015             97.7760      1  2016        27182         Card  \n",
       "...                      ...    ...   ...          ...          ...  \n",
       "10440101             63.3600      1  2018        52392         Cash  \n",
       "10440104            106.8480      1  2018        53286         Cash  \n",
       "10440105            349.6500      1  2018        52265         Cash  \n",
       "10440106            114.0480      1  2018        52175         Card  \n",
       "10440107            177.6192      1  2018        52917         Card  \n",
       "\n",
       "[359392 rows x 9 columns]"
      ]
     },
     "execution_count": 269,
     "metadata": {},
     "output_type": "execute_result"
    }
   ],
   "source": [
    "#Creating Master Data\n",
    "left = cab_data.set_index(['Transaction_ID'])\n",
    "right = TransactionID_data.set_index(['Transaction_ID'])\n",
    "data = left.join(right)\n",
    "data"
   ]
  },
  {
   "cell_type": "code",
   "execution_count": 270,
   "metadata": {},
   "outputs": [
    {
     "data": {
      "text/html": [
       "<div>\n",
       "<style scoped>\n",
       "    .dataframe tbody tr th:only-of-type {\n",
       "        vertical-align: middle;\n",
       "    }\n",
       "\n",
       "    .dataframe tbody tr th {\n",
       "        vertical-align: top;\n",
       "    }\n",
       "\n",
       "    .dataframe thead th {\n",
       "        text-align: right;\n",
       "    }\n",
       "</style>\n",
       "<table border=\"1\" class=\"dataframe\">\n",
       "  <thead>\n",
       "    <tr style=\"text-align: right;\">\n",
       "      <th></th>\n",
       "      <th></th>\n",
       "      <th>Company</th>\n",
       "      <th>City</th>\n",
       "      <th>KM_Travelled</th>\n",
       "      <th>Price_Charged</th>\n",
       "      <th>Cost_of_Trip</th>\n",
       "      <th>Month</th>\n",
       "      <th>Year</th>\n",
       "      <th>Payment_Mode</th>\n",
       "      <th>Gender</th>\n",
       "      <th>Age</th>\n",
       "      <th>Income_(USD/Month)</th>\n",
       "    </tr>\n",
       "    <tr>\n",
       "      <th>Transaction_ID</th>\n",
       "      <th>Customer_ID</th>\n",
       "      <th></th>\n",
       "      <th></th>\n",
       "      <th></th>\n",
       "      <th></th>\n",
       "      <th></th>\n",
       "      <th></th>\n",
       "      <th></th>\n",
       "      <th></th>\n",
       "      <th></th>\n",
       "      <th></th>\n",
       "      <th></th>\n",
       "    </tr>\n",
       "  </thead>\n",
       "  <tbody>\n",
       "    <tr>\n",
       "      <th>10000011</th>\n",
       "      <th>29290</th>\n",
       "      <td>Pink Cab</td>\n",
       "      <td>ATLANTA GA</td>\n",
       "      <td>30.45</td>\n",
       "      <td>370.95</td>\n",
       "      <td>313.6350</td>\n",
       "      <td>1</td>\n",
       "      <td>2016</td>\n",
       "      <td>Card</td>\n",
       "      <td>Male</td>\n",
       "      <td>28</td>\n",
       "      <td>10813</td>\n",
       "    </tr>\n",
       "    <tr>\n",
       "      <th>10000012</th>\n",
       "      <th>27703</th>\n",
       "      <td>Pink Cab</td>\n",
       "      <td>ATLANTA GA</td>\n",
       "      <td>28.62</td>\n",
       "      <td>358.52</td>\n",
       "      <td>334.8540</td>\n",
       "      <td>1</td>\n",
       "      <td>2016</td>\n",
       "      <td>Card</td>\n",
       "      <td>Male</td>\n",
       "      <td>27</td>\n",
       "      <td>9237</td>\n",
       "    </tr>\n",
       "    <tr>\n",
       "      <th>10000013</th>\n",
       "      <th>28712</th>\n",
       "      <td>Pink Cab</td>\n",
       "      <td>ATLANTA GA</td>\n",
       "      <td>9.04</td>\n",
       "      <td>125.20</td>\n",
       "      <td>97.6320</td>\n",
       "      <td>1</td>\n",
       "      <td>2016</td>\n",
       "      <td>Cash</td>\n",
       "      <td>Male</td>\n",
       "      <td>53</td>\n",
       "      <td>11242</td>\n",
       "    </tr>\n",
       "    <tr>\n",
       "      <th>10000014</th>\n",
       "      <th>28020</th>\n",
       "      <td>Pink Cab</td>\n",
       "      <td>ATLANTA GA</td>\n",
       "      <td>33.17</td>\n",
       "      <td>377.40</td>\n",
       "      <td>351.6020</td>\n",
       "      <td>1</td>\n",
       "      <td>2016</td>\n",
       "      <td>Cash</td>\n",
       "      <td>Male</td>\n",
       "      <td>23</td>\n",
       "      <td>23327</td>\n",
       "    </tr>\n",
       "    <tr>\n",
       "      <th>10000015</th>\n",
       "      <th>27182</th>\n",
       "      <td>Pink Cab</td>\n",
       "      <td>ATLANTA GA</td>\n",
       "      <td>8.73</td>\n",
       "      <td>114.62</td>\n",
       "      <td>97.7760</td>\n",
       "      <td>1</td>\n",
       "      <td>2016</td>\n",
       "      <td>Card</td>\n",
       "      <td>Male</td>\n",
       "      <td>33</td>\n",
       "      <td>8536</td>\n",
       "    </tr>\n",
       "    <tr>\n",
       "      <th>...</th>\n",
       "      <th>...</th>\n",
       "      <td>...</td>\n",
       "      <td>...</td>\n",
       "      <td>...</td>\n",
       "      <td>...</td>\n",
       "      <td>...</td>\n",
       "      <td>...</td>\n",
       "      <td>...</td>\n",
       "      <td>...</td>\n",
       "      <td>...</td>\n",
       "      <td>...</td>\n",
       "      <td>...</td>\n",
       "    </tr>\n",
       "    <tr>\n",
       "      <th>10440101</th>\n",
       "      <th>52392</th>\n",
       "      <td>Yellow Cab</td>\n",
       "      <td>WASHINGTON DC</td>\n",
       "      <td>4.80</td>\n",
       "      <td>69.24</td>\n",
       "      <td>63.3600</td>\n",
       "      <td>1</td>\n",
       "      <td>2018</td>\n",
       "      <td>Cash</td>\n",
       "      <td>Male</td>\n",
       "      <td>24</td>\n",
       "      <td>15651</td>\n",
       "    </tr>\n",
       "    <tr>\n",
       "      <th>10440104</th>\n",
       "      <th>53286</th>\n",
       "      <td>Yellow Cab</td>\n",
       "      <td>WASHINGTON DC</td>\n",
       "      <td>8.40</td>\n",
       "      <td>113.75</td>\n",
       "      <td>106.8480</td>\n",
       "      <td>1</td>\n",
       "      <td>2018</td>\n",
       "      <td>Cash</td>\n",
       "      <td>Male</td>\n",
       "      <td>32</td>\n",
       "      <td>6528</td>\n",
       "    </tr>\n",
       "    <tr>\n",
       "      <th>10440105</th>\n",
       "      <th>52265</th>\n",
       "      <td>Yellow Cab</td>\n",
       "      <td>WASHINGTON DC</td>\n",
       "      <td>27.75</td>\n",
       "      <td>437.07</td>\n",
       "      <td>349.6500</td>\n",
       "      <td>1</td>\n",
       "      <td>2018</td>\n",
       "      <td>Cash</td>\n",
       "      <td>Male</td>\n",
       "      <td>56</td>\n",
       "      <td>7966</td>\n",
       "    </tr>\n",
       "    <tr>\n",
       "      <th>10440106</th>\n",
       "      <th>52175</th>\n",
       "      <td>Yellow Cab</td>\n",
       "      <td>WASHINGTON DC</td>\n",
       "      <td>8.80</td>\n",
       "      <td>146.19</td>\n",
       "      <td>114.0480</td>\n",
       "      <td>1</td>\n",
       "      <td>2018</td>\n",
       "      <td>Card</td>\n",
       "      <td>Male</td>\n",
       "      <td>32</td>\n",
       "      <td>6423</td>\n",
       "    </tr>\n",
       "    <tr>\n",
       "      <th>10440107</th>\n",
       "      <th>52917</th>\n",
       "      <td>Yellow Cab</td>\n",
       "      <td>WASHINGTON DC</td>\n",
       "      <td>12.76</td>\n",
       "      <td>191.58</td>\n",
       "      <td>177.6192</td>\n",
       "      <td>1</td>\n",
       "      <td>2018</td>\n",
       "      <td>Card</td>\n",
       "      <td>Male</td>\n",
       "      <td>20</td>\n",
       "      <td>11284</td>\n",
       "    </tr>\n",
       "  </tbody>\n",
       "</table>\n",
       "<p>359392 rows × 11 columns</p>\n",
       "</div>"
      ],
      "text/plain": [
       "                               Company           City  KM_Travelled  \\\n",
       "Transaction_ID Customer_ID                                            \n",
       "10000011       29290          Pink Cab     ATLANTA GA         30.45   \n",
       "10000012       27703          Pink Cab     ATLANTA GA         28.62   \n",
       "10000013       28712          Pink Cab     ATLANTA GA          9.04   \n",
       "10000014       28020          Pink Cab     ATLANTA GA         33.17   \n",
       "10000015       27182          Pink Cab     ATLANTA GA          8.73   \n",
       "...                                ...            ...           ...   \n",
       "10440101       52392        Yellow Cab  WASHINGTON DC          4.80   \n",
       "10440104       53286        Yellow Cab  WASHINGTON DC          8.40   \n",
       "10440105       52265        Yellow Cab  WASHINGTON DC         27.75   \n",
       "10440106       52175        Yellow Cab  WASHINGTON DC          8.80   \n",
       "10440107       52917        Yellow Cab  WASHINGTON DC         12.76   \n",
       "\n",
       "                            Price_Charged  Cost_of_Trip  Month  Year  \\\n",
       "Transaction_ID Customer_ID                                             \n",
       "10000011       29290               370.95      313.6350      1  2016   \n",
       "10000012       27703               358.52      334.8540      1  2016   \n",
       "10000013       28712               125.20       97.6320      1  2016   \n",
       "10000014       28020               377.40      351.6020      1  2016   \n",
       "10000015       27182               114.62       97.7760      1  2016   \n",
       "...                                   ...           ...    ...   ...   \n",
       "10440101       52392                69.24       63.3600      1  2018   \n",
       "10440104       53286               113.75      106.8480      1  2018   \n",
       "10440105       52265               437.07      349.6500      1  2018   \n",
       "10440106       52175               146.19      114.0480      1  2018   \n",
       "10440107       52917               191.58      177.6192      1  2018   \n",
       "\n",
       "                           Payment_Mode Gender  Age  Income_(USD/Month)  \n",
       "Transaction_ID Customer_ID                                               \n",
       "10000011       29290               Card   Male   28               10813  \n",
       "10000012       27703               Card   Male   27                9237  \n",
       "10000013       28712               Cash   Male   53               11242  \n",
       "10000014       28020               Cash   Male   23               23327  \n",
       "10000015       27182               Card   Male   33                8536  \n",
       "...                                 ...    ...  ...                 ...  \n",
       "10440101       52392               Cash   Male   24               15651  \n",
       "10440104       53286               Cash   Male   32                6528  \n",
       "10440105       52265               Cash   Male   56                7966  \n",
       "10440106       52175               Card   Male   32                6423  \n",
       "10440107       52917               Card   Male   20               11284  \n",
       "\n",
       "[359392 rows x 11 columns]"
      ]
     },
     "execution_count": 270,
     "metadata": {},
     "output_type": "execute_result"
    }
   ],
   "source": [
    "left = data.set_index([data.index,'Customer_ID'])\n",
    "right = CustomerID_data.set_index(['Customer_ID'])\n",
    "data = left.join(right)\n",
    "data"
   ]
  },
  {
   "cell_type": "code",
   "execution_count": 271,
   "metadata": {},
   "outputs": [
    {
     "data": {
      "text/html": [
       "<div>\n",
       "<style scoped>\n",
       "    .dataframe tbody tr th:only-of-type {\n",
       "        vertical-align: middle;\n",
       "    }\n",
       "\n",
       "    .dataframe tbody tr th {\n",
       "        vertical-align: top;\n",
       "    }\n",
       "\n",
       "    .dataframe thead th {\n",
       "        text-align: right;\n",
       "    }\n",
       "</style>\n",
       "<table border=\"1\" class=\"dataframe\">\n",
       "  <thead>\n",
       "    <tr style=\"text-align: right;\">\n",
       "      <th></th>\n",
       "      <th></th>\n",
       "      <th></th>\n",
       "      <th>Company</th>\n",
       "      <th>KM_Travelled</th>\n",
       "      <th>Price_Charged</th>\n",
       "      <th>Cost_of_Trip</th>\n",
       "      <th>Month</th>\n",
       "      <th>Year</th>\n",
       "      <th>Payment_Mode</th>\n",
       "      <th>Gender</th>\n",
       "      <th>Age</th>\n",
       "      <th>Income_(USD/Month)</th>\n",
       "      <th>Population</th>\n",
       "      <th>Users</th>\n",
       "    </tr>\n",
       "    <tr>\n",
       "      <th>Transaction_ID</th>\n",
       "      <th>Customer_ID</th>\n",
       "      <th>City</th>\n",
       "      <th></th>\n",
       "      <th></th>\n",
       "      <th></th>\n",
       "      <th></th>\n",
       "      <th></th>\n",
       "      <th></th>\n",
       "      <th></th>\n",
       "      <th></th>\n",
       "      <th></th>\n",
       "      <th></th>\n",
       "      <th></th>\n",
       "      <th></th>\n",
       "    </tr>\n",
       "  </thead>\n",
       "  <tbody>\n",
       "    <tr>\n",
       "      <th>10000011</th>\n",
       "      <th>29290</th>\n",
       "      <th>ATLANTA GA</th>\n",
       "      <td>Pink Cab</td>\n",
       "      <td>30.45</td>\n",
       "      <td>370.95</td>\n",
       "      <td>313.6350</td>\n",
       "      <td>1</td>\n",
       "      <td>2016</td>\n",
       "      <td>Card</td>\n",
       "      <td>Male</td>\n",
       "      <td>28</td>\n",
       "      <td>10813</td>\n",
       "      <td>814,885</td>\n",
       "      <td>24,701</td>\n",
       "    </tr>\n",
       "    <tr>\n",
       "      <th>10000012</th>\n",
       "      <th>27703</th>\n",
       "      <th>ATLANTA GA</th>\n",
       "      <td>Pink Cab</td>\n",
       "      <td>28.62</td>\n",
       "      <td>358.52</td>\n",
       "      <td>334.8540</td>\n",
       "      <td>1</td>\n",
       "      <td>2016</td>\n",
       "      <td>Card</td>\n",
       "      <td>Male</td>\n",
       "      <td>27</td>\n",
       "      <td>9237</td>\n",
       "      <td>814,885</td>\n",
       "      <td>24,701</td>\n",
       "    </tr>\n",
       "    <tr>\n",
       "      <th>10000013</th>\n",
       "      <th>28712</th>\n",
       "      <th>ATLANTA GA</th>\n",
       "      <td>Pink Cab</td>\n",
       "      <td>9.04</td>\n",
       "      <td>125.20</td>\n",
       "      <td>97.6320</td>\n",
       "      <td>1</td>\n",
       "      <td>2016</td>\n",
       "      <td>Cash</td>\n",
       "      <td>Male</td>\n",
       "      <td>53</td>\n",
       "      <td>11242</td>\n",
       "      <td>814,885</td>\n",
       "      <td>24,701</td>\n",
       "    </tr>\n",
       "    <tr>\n",
       "      <th>10000014</th>\n",
       "      <th>28020</th>\n",
       "      <th>ATLANTA GA</th>\n",
       "      <td>Pink Cab</td>\n",
       "      <td>33.17</td>\n",
       "      <td>377.40</td>\n",
       "      <td>351.6020</td>\n",
       "      <td>1</td>\n",
       "      <td>2016</td>\n",
       "      <td>Cash</td>\n",
       "      <td>Male</td>\n",
       "      <td>23</td>\n",
       "      <td>23327</td>\n",
       "      <td>814,885</td>\n",
       "      <td>24,701</td>\n",
       "    </tr>\n",
       "    <tr>\n",
       "      <th>10000015</th>\n",
       "      <th>27182</th>\n",
       "      <th>ATLANTA GA</th>\n",
       "      <td>Pink Cab</td>\n",
       "      <td>8.73</td>\n",
       "      <td>114.62</td>\n",
       "      <td>97.7760</td>\n",
       "      <td>1</td>\n",
       "      <td>2016</td>\n",
       "      <td>Card</td>\n",
       "      <td>Male</td>\n",
       "      <td>33</td>\n",
       "      <td>8536</td>\n",
       "      <td>814,885</td>\n",
       "      <td>24,701</td>\n",
       "    </tr>\n",
       "    <tr>\n",
       "      <th>...</th>\n",
       "      <th>...</th>\n",
       "      <th>...</th>\n",
       "      <td>...</td>\n",
       "      <td>...</td>\n",
       "      <td>...</td>\n",
       "      <td>...</td>\n",
       "      <td>...</td>\n",
       "      <td>...</td>\n",
       "      <td>...</td>\n",
       "      <td>...</td>\n",
       "      <td>...</td>\n",
       "      <td>...</td>\n",
       "      <td>...</td>\n",
       "      <td>...</td>\n",
       "    </tr>\n",
       "    <tr>\n",
       "      <th>10440101</th>\n",
       "      <th>52392</th>\n",
       "      <th>WASHINGTON DC</th>\n",
       "      <td>Yellow Cab</td>\n",
       "      <td>4.80</td>\n",
       "      <td>69.24</td>\n",
       "      <td>63.3600</td>\n",
       "      <td>1</td>\n",
       "      <td>2018</td>\n",
       "      <td>Cash</td>\n",
       "      <td>Male</td>\n",
       "      <td>24</td>\n",
       "      <td>15651</td>\n",
       "      <td>418,859</td>\n",
       "      <td>127,001</td>\n",
       "    </tr>\n",
       "    <tr>\n",
       "      <th>10440104</th>\n",
       "      <th>53286</th>\n",
       "      <th>WASHINGTON DC</th>\n",
       "      <td>Yellow Cab</td>\n",
       "      <td>8.40</td>\n",
       "      <td>113.75</td>\n",
       "      <td>106.8480</td>\n",
       "      <td>1</td>\n",
       "      <td>2018</td>\n",
       "      <td>Cash</td>\n",
       "      <td>Male</td>\n",
       "      <td>32</td>\n",
       "      <td>6528</td>\n",
       "      <td>418,859</td>\n",
       "      <td>127,001</td>\n",
       "    </tr>\n",
       "    <tr>\n",
       "      <th>10440105</th>\n",
       "      <th>52265</th>\n",
       "      <th>WASHINGTON DC</th>\n",
       "      <td>Yellow Cab</td>\n",
       "      <td>27.75</td>\n",
       "      <td>437.07</td>\n",
       "      <td>349.6500</td>\n",
       "      <td>1</td>\n",
       "      <td>2018</td>\n",
       "      <td>Cash</td>\n",
       "      <td>Male</td>\n",
       "      <td>56</td>\n",
       "      <td>7966</td>\n",
       "      <td>418,859</td>\n",
       "      <td>127,001</td>\n",
       "    </tr>\n",
       "    <tr>\n",
       "      <th>10440106</th>\n",
       "      <th>52175</th>\n",
       "      <th>WASHINGTON DC</th>\n",
       "      <td>Yellow Cab</td>\n",
       "      <td>8.80</td>\n",
       "      <td>146.19</td>\n",
       "      <td>114.0480</td>\n",
       "      <td>1</td>\n",
       "      <td>2018</td>\n",
       "      <td>Card</td>\n",
       "      <td>Male</td>\n",
       "      <td>32</td>\n",
       "      <td>6423</td>\n",
       "      <td>418,859</td>\n",
       "      <td>127,001</td>\n",
       "    </tr>\n",
       "    <tr>\n",
       "      <th>10440107</th>\n",
       "      <th>52917</th>\n",
       "      <th>WASHINGTON DC</th>\n",
       "      <td>Yellow Cab</td>\n",
       "      <td>12.76</td>\n",
       "      <td>191.58</td>\n",
       "      <td>177.6192</td>\n",
       "      <td>1</td>\n",
       "      <td>2018</td>\n",
       "      <td>Card</td>\n",
       "      <td>Male</td>\n",
       "      <td>20</td>\n",
       "      <td>11284</td>\n",
       "      <td>418,859</td>\n",
       "      <td>127,001</td>\n",
       "    </tr>\n",
       "  </tbody>\n",
       "</table>\n",
       "<p>359392 rows × 12 columns</p>\n",
       "</div>"
      ],
      "text/plain": [
       "                                             Company  KM_Travelled  \\\n",
       "Transaction_ID Customer_ID City                                      \n",
       "10000011       29290       ATLANTA GA       Pink Cab         30.45   \n",
       "10000012       27703       ATLANTA GA       Pink Cab         28.62   \n",
       "10000013       28712       ATLANTA GA       Pink Cab          9.04   \n",
       "10000014       28020       ATLANTA GA       Pink Cab         33.17   \n",
       "10000015       27182       ATLANTA GA       Pink Cab          8.73   \n",
       "...                                              ...           ...   \n",
       "10440101       52392       WASHINGTON DC  Yellow Cab          4.80   \n",
       "10440104       53286       WASHINGTON DC  Yellow Cab          8.40   \n",
       "10440105       52265       WASHINGTON DC  Yellow Cab         27.75   \n",
       "10440106       52175       WASHINGTON DC  Yellow Cab          8.80   \n",
       "10440107       52917       WASHINGTON DC  Yellow Cab         12.76   \n",
       "\n",
       "                                          Price_Charged  Cost_of_Trip  Month  \\\n",
       "Transaction_ID Customer_ID City                                                \n",
       "10000011       29290       ATLANTA GA            370.95      313.6350      1   \n",
       "10000012       27703       ATLANTA GA            358.52      334.8540      1   \n",
       "10000013       28712       ATLANTA GA            125.20       97.6320      1   \n",
       "10000014       28020       ATLANTA GA            377.40      351.6020      1   \n",
       "10000015       27182       ATLANTA GA            114.62       97.7760      1   \n",
       "...                                                 ...           ...    ...   \n",
       "10440101       52392       WASHINGTON DC          69.24       63.3600      1   \n",
       "10440104       53286       WASHINGTON DC         113.75      106.8480      1   \n",
       "10440105       52265       WASHINGTON DC         437.07      349.6500      1   \n",
       "10440106       52175       WASHINGTON DC         146.19      114.0480      1   \n",
       "10440107       52917       WASHINGTON DC         191.58      177.6192      1   \n",
       "\n",
       "                                          Year Payment_Mode Gender  Age  \\\n",
       "Transaction_ID Customer_ID City                                           \n",
       "10000011       29290       ATLANTA GA     2016         Card   Male   28   \n",
       "10000012       27703       ATLANTA GA     2016         Card   Male   27   \n",
       "10000013       28712       ATLANTA GA     2016         Cash   Male   53   \n",
       "10000014       28020       ATLANTA GA     2016         Cash   Male   23   \n",
       "10000015       27182       ATLANTA GA     2016         Card   Male   33   \n",
       "...                                        ...          ...    ...  ...   \n",
       "10440101       52392       WASHINGTON DC  2018         Cash   Male   24   \n",
       "10440104       53286       WASHINGTON DC  2018         Cash   Male   32   \n",
       "10440105       52265       WASHINGTON DC  2018         Cash   Male   56   \n",
       "10440106       52175       WASHINGTON DC  2018         Card   Male   32   \n",
       "10440107       52917       WASHINGTON DC  2018         Card   Male   20   \n",
       "\n",
       "                                          Income_(USD/Month) Population  \\\n",
       "Transaction_ID Customer_ID City                                           \n",
       "10000011       29290       ATLANTA GA                  10813   814,885    \n",
       "10000012       27703       ATLANTA GA                   9237   814,885    \n",
       "10000013       28712       ATLANTA GA                  11242   814,885    \n",
       "10000014       28020       ATLANTA GA                  23327   814,885    \n",
       "10000015       27182       ATLANTA GA                   8536   814,885    \n",
       "...                                                      ...        ...   \n",
       "10440101       52392       WASHINGTON DC               15651   418,859    \n",
       "10440104       53286       WASHINGTON DC                6528   418,859    \n",
       "10440105       52265       WASHINGTON DC                7966   418,859    \n",
       "10440106       52175       WASHINGTON DC                6423   418,859    \n",
       "10440107       52917       WASHINGTON DC               11284   418,859    \n",
       "\n",
       "                                              Users  \n",
       "Transaction_ID Customer_ID City                      \n",
       "10000011       29290       ATLANTA GA       24,701   \n",
       "10000012       27703       ATLANTA GA       24,701   \n",
       "10000013       28712       ATLANTA GA       24,701   \n",
       "10000014       28020       ATLANTA GA       24,701   \n",
       "10000015       27182       ATLANTA GA       24,701   \n",
       "...                                             ...  \n",
       "10440101       52392       WASHINGTON DC   127,001   \n",
       "10440104       53286       WASHINGTON DC   127,001   \n",
       "10440105       52265       WASHINGTON DC   127,001   \n",
       "10440106       52175       WASHINGTON DC   127,001   \n",
       "10440107       52917       WASHINGTON DC   127,001   \n",
       "\n",
       "[359392 rows x 12 columns]"
      ]
     },
     "execution_count": 271,
     "metadata": {},
     "output_type": "execute_result"
    }
   ],
   "source": [
    "left = data.set_index([data.index,'City'])\n",
    "right = City_data.set_index(['City'])\n",
    "data = left.join(right)\n",
    "data"
   ]
  },
  {
   "cell_type": "code",
   "execution_count": 272,
   "metadata": {},
   "outputs": [],
   "source": [
    "YellowCab = data[data['Company']=='Yellow Cab']\n",
    "PinkCab = data[data['Company']=='Pink Cab']"
   ]
  },
  {
   "cell_type": "code",
   "execution_count": 273,
   "metadata": {},
   "outputs": [
    {
     "name": "stderr",
     "output_type": "stream",
     "text": [
      "C:\\Users\\HAZARIKA\\anaconda3\\lib\\site-packages\\pandas\\core\\frame.py:4163: SettingWithCopyWarning: \n",
      "A value is trying to be set on a copy of a slice from a DataFrame\n",
      "\n",
      "See the caveats in the documentation: https://pandas.pydata.org/pandas-docs/stable/user_guide/indexing.html#returning-a-view-versus-a-copy\n",
      "  return super().drop(\n"
     ]
    }
   ],
   "source": [
    "YellowCab.drop(['Company', 'Payment_Mode', 'Gender','Population','Users'], axis=1, inplace=True)"
   ]
  },
  {
   "cell_type": "code",
   "execution_count": 274,
   "metadata": {},
   "outputs": [],
   "source": [
    "PinkCab.drop(['Company', 'Payment_Mode', 'Gender','Population','Users'], axis=1, inplace=True)"
   ]
  },
  {
   "cell_type": "code",
   "execution_count": 275,
   "metadata": {},
   "outputs": [],
   "source": [
    "YellowCab_X = YellowCab.drop(['Price_Charged'], axis=1)\n",
    "YellowCab_y = YellowCab['Price_Charged'].copy()"
   ]
  },
  {
   "cell_type": "code",
   "execution_count": 276,
   "metadata": {},
   "outputs": [],
   "source": [
    "PinkCab_X = PinkCab.drop(['Price_Charged'], axis=1)\n",
    "PinkCab_y = PinkCab['Price_Charged'].copy()"
   ]
  },
  {
   "cell_type": "code",
   "execution_count": 277,
   "metadata": {},
   "outputs": [],
   "source": [
    "#Yellow Cab base model\n",
    "import statsmodels.api as sm"
   ]
  },
  {
   "cell_type": "code",
   "execution_count": 278,
   "metadata": {},
   "outputs": [
    {
     "data": {
      "text/html": [
       "<table class=\"simpletable\">\n",
       "<caption>OLS Regression Results</caption>\n",
       "<tr>\n",
       "  <th>Dep. Variable:</th>      <td>Price_Charged</td>  <th>  R-squared:         </th>  <td>   0.745</td>  \n",
       "</tr>\n",
       "<tr>\n",
       "  <th>Model:</th>                   <td>OLS</td>       <th>  Adj. R-squared:    </th>  <td>   0.745</td>  \n",
       "</tr>\n",
       "<tr>\n",
       "  <th>Method:</th>             <td>Least Squares</td>  <th>  F-statistic:       </th>  <td>1.336e+05</td> \n",
       "</tr>\n",
       "<tr>\n",
       "  <th>Date:</th>             <td>Fri, 05 Mar 2021</td> <th>  Prob (F-statistic):</th>   <td>  0.00</td>   \n",
       "</tr>\n",
       "<tr>\n",
       "  <th>Time:</th>                 <td>12:26:24</td>     <th>  Log-Likelihood:    </th> <td>-1.7581e+06</td>\n",
       "</tr>\n",
       "<tr>\n",
       "  <th>No. Observations:</th>      <td>274681</td>      <th>  AIC:               </th>  <td>3.516e+06</td> \n",
       "</tr>\n",
       "<tr>\n",
       "  <th>Df Residuals:</th>          <td>274674</td>      <th>  BIC:               </th>  <td>3.516e+06</td> \n",
       "</tr>\n",
       "<tr>\n",
       "  <th>Df Model:</th>              <td>     6</td>      <th>                     </th>      <td> </td>     \n",
       "</tr>\n",
       "<tr>\n",
       "  <th>Covariance Type:</th>      <td>nonrobust</td>    <th>                     </th>      <td> </td>     \n",
       "</tr>\n",
       "</table>\n",
       "<table class=\"simpletable\">\n",
       "<tr>\n",
       "           <td></td>             <th>coef</th>     <th>std err</th>      <th>t</th>      <th>P>|t|</th>  <th>[0.025</th>    <th>0.975]</th>  \n",
       "</tr>\n",
       "<tr>\n",
       "  <th>const</th>              <td> 2.774e+04</td> <td>  700.786</td> <td>   39.591</td> <td> 0.000</td> <td> 2.64e+04</td> <td> 2.91e+04</td>\n",
       "</tr>\n",
       "<tr>\n",
       "  <th>KM_Travelled</th>       <td>   20.3282</td> <td>    0.198</td> <td>  102.704</td> <td> 0.000</td> <td>   19.940</td> <td>   20.716</td>\n",
       "</tr>\n",
       "<tr>\n",
       "  <th>Cost_of_Trip</th>       <td>   -0.0052</td> <td>    0.015</td> <td>   -0.346</td> <td> 0.729</td> <td>   -0.034</td> <td>    0.024</td>\n",
       "</tr>\n",
       "<tr>\n",
       "  <th>Month</th>              <td>   -5.5016</td> <td>    0.080</td> <td>  -68.649</td> <td> 0.000</td> <td>   -5.659</td> <td>   -5.345</td>\n",
       "</tr>\n",
       "<tr>\n",
       "  <th>Year</th>               <td>  -13.7343</td> <td>    0.347</td> <td>  -39.532</td> <td> 0.000</td> <td>  -14.415</td> <td>  -13.053</td>\n",
       "</tr>\n",
       "<tr>\n",
       "  <th>Age</th>                <td>   -0.0835</td> <td>    0.022</td> <td>   -3.780</td> <td> 0.000</td> <td>   -0.127</td> <td>   -0.040</td>\n",
       "</tr>\n",
       "<tr>\n",
       "  <th>Income_(USD/Month)</th> <td>    0.0002</td> <td> 3.49e-05</td> <td>    4.746</td> <td> 0.000</td> <td> 9.73e-05</td> <td>    0.000</td>\n",
       "</tr>\n",
       "</table>\n",
       "<table class=\"simpletable\">\n",
       "<tr>\n",
       "  <th>Omnibus:</th>       <td>51903.377</td> <th>  Durbin-Watson:     </th>  <td>   0.652</td> \n",
       "</tr>\n",
       "<tr>\n",
       "  <th>Prob(Omnibus):</th>  <td> 0.000</td>   <th>  Jarque-Bera (JB):  </th> <td>122747.976</td>\n",
       "</tr>\n",
       "<tr>\n",
       "  <th>Skew:</th>           <td> 1.070</td>   <th>  Prob(JB):          </th>  <td>    0.00</td> \n",
       "</tr>\n",
       "<tr>\n",
       "  <th>Kurtosis:</th>       <td> 5.479</td>   <th>  Cond. No.          </th>  <td>4.32e+07</td> \n",
       "</tr>\n",
       "</table><br/><br/>Notes:<br/>[1] Standard Errors assume that the covariance matrix of the errors is correctly specified.<br/>[2] The condition number is large, 4.32e+07. This might indicate that there are<br/>strong multicollinearity or other numerical problems."
      ],
      "text/plain": [
       "<class 'statsmodels.iolib.summary.Summary'>\n",
       "\"\"\"\n",
       "                            OLS Regression Results                            \n",
       "==============================================================================\n",
       "Dep. Variable:          Price_Charged   R-squared:                       0.745\n",
       "Model:                            OLS   Adj. R-squared:                  0.745\n",
       "Method:                 Least Squares   F-statistic:                 1.336e+05\n",
       "Date:                Fri, 05 Mar 2021   Prob (F-statistic):               0.00\n",
       "Time:                        12:26:24   Log-Likelihood:            -1.7581e+06\n",
       "No. Observations:              274681   AIC:                         3.516e+06\n",
       "Df Residuals:                  274674   BIC:                         3.516e+06\n",
       "Df Model:                           6                                         \n",
       "Covariance Type:            nonrobust                                         \n",
       "======================================================================================\n",
       "                         coef    std err          t      P>|t|      [0.025      0.975]\n",
       "--------------------------------------------------------------------------------------\n",
       "const               2.774e+04    700.786     39.591      0.000    2.64e+04    2.91e+04\n",
       "KM_Travelled          20.3282      0.198    102.704      0.000      19.940      20.716\n",
       "Cost_of_Trip          -0.0052      0.015     -0.346      0.729      -0.034       0.024\n",
       "Month                 -5.5016      0.080    -68.649      0.000      -5.659      -5.345\n",
       "Year                 -13.7343      0.347    -39.532      0.000     -14.415     -13.053\n",
       "Age                   -0.0835      0.022     -3.780      0.000      -0.127      -0.040\n",
       "Income_(USD/Month)     0.0002   3.49e-05      4.746      0.000    9.73e-05       0.000\n",
       "==============================================================================\n",
       "Omnibus:                    51903.377   Durbin-Watson:                   0.652\n",
       "Prob(Omnibus):                  0.000   Jarque-Bera (JB):           122747.976\n",
       "Skew:                           1.070   Prob(JB):                         0.00\n",
       "Kurtosis:                       5.479   Cond. No.                     4.32e+07\n",
       "==============================================================================\n",
       "\n",
       "Notes:\n",
       "[1] Standard Errors assume that the covariance matrix of the errors is correctly specified.\n",
       "[2] The condition number is large, 4.32e+07. This might indicate that there are\n",
       "strong multicollinearity or other numerical problems.\n",
       "\"\"\""
      ]
     },
     "execution_count": 278,
     "metadata": {},
     "output_type": "execute_result"
    }
   ],
   "source": [
    "x_constant = sm.add_constant(YellowCab_X)\n",
    "YellowCab_model = sm.OLS(YellowCab_y, x_constant).fit()\n",
    "YellowCab_model.summary()"
   ]
  },
  {
   "cell_type": "code",
   "execution_count": 279,
   "metadata": {},
   "outputs": [],
   "source": [
    "# Cost of Trip,Month, Year, Age, Income are significant variable for Yellow Cab."
   ]
  },
  {
   "cell_type": "code",
   "execution_count": 280,
   "metadata": {},
   "outputs": [],
   "source": [
    "#Pink Cab Base Model"
   ]
  },
  {
   "cell_type": "code",
   "execution_count": 281,
   "metadata": {},
   "outputs": [
    {
     "data": {
      "text/html": [
       "<table class=\"simpletable\">\n",
       "<caption>OLS Regression Results</caption>\n",
       "<tr>\n",
       "  <th>Dep. Variable:</th>      <td>Price_Charged</td>  <th>  R-squared:         </th>  <td>   0.863</td>  \n",
       "</tr>\n",
       "<tr>\n",
       "  <th>Model:</th>                   <td>OLS</td>       <th>  Adj. R-squared:    </th>  <td>   0.863</td>  \n",
       "</tr>\n",
       "<tr>\n",
       "  <th>Method:</th>             <td>Least Squares</td>  <th>  F-statistic:       </th>  <td>8.871e+04</td> \n",
       "</tr>\n",
       "<tr>\n",
       "  <th>Date:</th>             <td>Fri, 05 Mar 2021</td> <th>  Prob (F-statistic):</th>   <td>  0.00</td>   \n",
       "</tr>\n",
       "<tr>\n",
       "  <th>Time:</th>                 <td>12:26:27</td>     <th>  Log-Likelihood:    </th> <td>-4.7693e+05</td>\n",
       "</tr>\n",
       "<tr>\n",
       "  <th>No. Observations:</th>      <td> 84711</td>      <th>  AIC:               </th>  <td>9.539e+05</td> \n",
       "</tr>\n",
       "<tr>\n",
       "  <th>Df Residuals:</th>          <td> 84704</td>      <th>  BIC:               </th>  <td>9.539e+05</td> \n",
       "</tr>\n",
       "<tr>\n",
       "  <th>Df Model:</th>              <td>     6</td>      <th>                     </th>      <td> </td>     \n",
       "</tr>\n",
       "<tr>\n",
       "  <th>Covariance Type:</th>      <td>nonrobust</td>    <th>                     </th>      <td> </td>     \n",
       "</tr>\n",
       "</table>\n",
       "<table class=\"simpletable\">\n",
       "<tr>\n",
       "           <td></td>             <th>coef</th>     <th>std err</th>      <th>t</th>      <th>P>|t|</th>  <th>[0.025</th>    <th>0.975]</th>  \n",
       "</tr>\n",
       "<tr>\n",
       "  <th>const</th>              <td> 1.515e+04</td> <td>  584.885</td> <td>   25.903</td> <td> 0.000</td> <td>  1.4e+04</td> <td> 1.63e+04</td>\n",
       "</tr>\n",
       "<tr>\n",
       "  <th>KM_Travelled</th>       <td>   13.4824</td> <td>    0.165</td> <td>   81.834</td> <td> 0.000</td> <td>   13.160</td> <td>   13.805</td>\n",
       "</tr>\n",
       "<tr>\n",
       "  <th>Cost_of_Trip</th>       <td>    0.0295</td> <td>    0.015</td> <td>    1.985</td> <td> 0.047</td> <td>    0.000</td> <td>    0.059</td>\n",
       "</tr>\n",
       "<tr>\n",
       "  <th>Month</th>              <td>    1.5216</td> <td>    0.069</td> <td>   21.950</td> <td> 0.000</td> <td>    1.386</td> <td>    1.657</td>\n",
       "</tr>\n",
       "<tr>\n",
       "  <th>Year</th>               <td>   -7.5169</td> <td>    0.290</td> <td>  -25.924</td> <td> 0.000</td> <td>   -8.085</td> <td>   -6.949</td>\n",
       "</tr>\n",
       "<tr>\n",
       "  <th>Age</th>                <td>   -0.0400</td> <td>    0.018</td> <td>   -2.185</td> <td> 0.029</td> <td>   -0.076</td> <td>   -0.004</td>\n",
       "</tr>\n",
       "<tr>\n",
       "  <th>Income_(USD/Month)</th> <td> 3.423e-05</td> <td>  2.9e-05</td> <td>    1.181</td> <td> 0.238</td> <td>-2.26e-05</td> <td> 9.11e-05</td>\n",
       "</tr>\n",
       "</table>\n",
       "<table class=\"simpletable\">\n",
       "<tr>\n",
       "  <th>Omnibus:</th>       <td>28936.298</td> <th>  Durbin-Watson:     </th>  <td>   0.887</td> \n",
       "</tr>\n",
       "<tr>\n",
       "  <th>Prob(Omnibus):</th>  <td> 0.000</td>   <th>  Jarque-Bera (JB):  </th> <td>273333.925</td>\n",
       "</tr>\n",
       "<tr>\n",
       "  <th>Skew:</th>           <td> 1.373</td>   <th>  Prob(JB):          </th>  <td>    0.00</td> \n",
       "</tr>\n",
       "<tr>\n",
       "  <th>Kurtosis:</th>       <td>11.360</td>   <th>  Cond. No.          </th>  <td>4.33e+07</td> \n",
       "</tr>\n",
       "</table><br/><br/>Notes:<br/>[1] Standard Errors assume that the covariance matrix of the errors is correctly specified.<br/>[2] The condition number is large, 4.33e+07. This might indicate that there are<br/>strong multicollinearity or other numerical problems."
      ],
      "text/plain": [
       "<class 'statsmodels.iolib.summary.Summary'>\n",
       "\"\"\"\n",
       "                            OLS Regression Results                            \n",
       "==============================================================================\n",
       "Dep. Variable:          Price_Charged   R-squared:                       0.863\n",
       "Model:                            OLS   Adj. R-squared:                  0.863\n",
       "Method:                 Least Squares   F-statistic:                 8.871e+04\n",
       "Date:                Fri, 05 Mar 2021   Prob (F-statistic):               0.00\n",
       "Time:                        12:26:27   Log-Likelihood:            -4.7693e+05\n",
       "No. Observations:               84711   AIC:                         9.539e+05\n",
       "Df Residuals:                   84704   BIC:                         9.539e+05\n",
       "Df Model:                           6                                         \n",
       "Covariance Type:            nonrobust                                         \n",
       "======================================================================================\n",
       "                         coef    std err          t      P>|t|      [0.025      0.975]\n",
       "--------------------------------------------------------------------------------------\n",
       "const               1.515e+04    584.885     25.903      0.000     1.4e+04    1.63e+04\n",
       "KM_Travelled          13.4824      0.165     81.834      0.000      13.160      13.805\n",
       "Cost_of_Trip           0.0295      0.015      1.985      0.047       0.000       0.059\n",
       "Month                  1.5216      0.069     21.950      0.000       1.386       1.657\n",
       "Year                  -7.5169      0.290    -25.924      0.000      -8.085      -6.949\n",
       "Age                   -0.0400      0.018     -2.185      0.029      -0.076      -0.004\n",
       "Income_(USD/Month)  3.423e-05    2.9e-05      1.181      0.238   -2.26e-05    9.11e-05\n",
       "==============================================================================\n",
       "Omnibus:                    28936.298   Durbin-Watson:                   0.887\n",
       "Prob(Omnibus):                  0.000   Jarque-Bera (JB):           273333.925\n",
       "Skew:                           1.373   Prob(JB):                         0.00\n",
       "Kurtosis:                      11.360   Cond. No.                     4.33e+07\n",
       "==============================================================================\n",
       "\n",
       "Notes:\n",
       "[1] Standard Errors assume that the covariance matrix of the errors is correctly specified.\n",
       "[2] The condition number is large, 4.33e+07. This might indicate that there are\n",
       "strong multicollinearity or other numerical problems.\n",
       "\"\"\""
      ]
     },
     "execution_count": 281,
     "metadata": {},
     "output_type": "execute_result"
    }
   ],
   "source": [
    "x_constant = sm.add_constant(PinkCab_X)\n",
    "PinkCab_model = sm.OLS(PinkCab_y, x_constant).fit()\n",
    "PinkCab_model.summary()"
   ]
  },
  {
   "cell_type": "code",
   "execution_count": 282,
   "metadata": {},
   "outputs": [],
   "source": [
    "# Cost_of_Trip,Year, Age, Income are significant variable for Pink Cab."
   ]
  },
  {
   "cell_type": "code",
   "execution_count": 283,
   "metadata": {},
   "outputs": [],
   "source": [
    "from sklearn.model_selection import train_test_split\n",
    "from sklearn.linear_model import LinearRegression\n",
    "from sklearn.metrics import mean_squared_error, accuracy_score, classification_report"
   ]
  },
  {
   "cell_type": "code",
   "execution_count": 284,
   "metadata": {},
   "outputs": [
    {
     "data": {
      "text/plain": [
       "LinearRegression()"
      ]
     },
     "execution_count": 284,
     "metadata": {},
     "output_type": "execute_result"
    }
   ],
   "source": [
    "X_train, X_test, y_train, y_test = train_test_split(YellowCab_X, YellowCab_y, test_size=0.3, random_state=42)\n",
    "\n",
    "lin_reg = LinearRegression()\n",
    "lin_reg.fit(X_train, y_train)"
   ]
  },
  {
   "cell_type": "code",
   "execution_count": 285,
   "metadata": {},
   "outputs": [
    {
     "name": "stdout",
     "output_type": "stream",
     "text": [
      "Train score 145.45357735978953\n",
      "Test score 146.20546493093306\n"
     ]
    }
   ],
   "source": [
    "train_pred = lin_reg.predict(X_train)\n",
    "print(f'Train score {np.sqrt(mean_squared_error(y_train, train_pred))}')\n",
    "\n",
    "predicted = lin_reg.predict(X_test)\n",
    "print(f'Test score {np.sqrt(mean_squared_error(y_test, predicted))}')"
   ]
  },
  {
   "cell_type": "code",
   "execution_count": 286,
   "metadata": {},
   "outputs": [
    {
     "data": {
      "text/plain": [
       "LinearRegression()"
      ]
     },
     "execution_count": 286,
     "metadata": {},
     "output_type": "execute_result"
    }
   ],
   "source": [
    "X_train, X_test, y_train, y_test = train_test_split(PinkCab_X, PinkCab_y, test_size=0.3, random_state=42)\n",
    "\n",
    "lin_reg = LinearRegression()\n",
    "lin_reg.fit(X_train, y_train)"
   ]
  },
  {
   "cell_type": "code",
   "execution_count": 287,
   "metadata": {},
   "outputs": [
    {
     "name": "stdout",
     "output_type": "stream",
     "text": [
      "Train score 67.2274905248551\n",
      "Test score 67.92057997441016\n"
     ]
    }
   ],
   "source": [
    "train_pred = lin_reg.predict(X_train)\n",
    "print(f'Train score {np.sqrt(mean_squared_error(y_train, train_pred))}')\n",
    "\n",
    "predicted = lin_reg.predict(X_test)\n",
    "print(f'Test score {np.sqrt(mean_squared_error(y_test, predicted))}')"
   ]
  },
  {
   "cell_type": "code",
   "execution_count": 288,
   "metadata": {},
   "outputs": [
    {
     "name": "stdout",
     "output_type": "stream",
     "text": [
      "<class 'pandas.core.frame.DataFrame'>\n",
      "MultiIndex: 67768 entries, (10359053, 47887, 'SACRAMENTO CA') to (10085754, 13379, 'SILICON VALLEY')\n",
      "Data columns (total 12 columns):\n",
      " #   Column              Non-Null Count  Dtype  \n",
      "---  ------              --------------  -----  \n",
      " 0   Company             67768 non-null  object \n",
      " 1   KM_Travelled        67768 non-null  float64\n",
      " 2   Price_Charged       67768 non-null  float64\n",
      " 3   Cost_of_Trip        67768 non-null  float64\n",
      " 4   Month               67768 non-null  int64  \n",
      " 5   Year                67768 non-null  int64  \n",
      " 6   Payment_Mode        67768 non-null  object \n",
      " 7   Gender              67768 non-null  object \n",
      " 8   Age                 67768 non-null  int64  \n",
      " 9   Income_(USD/Month)  67768 non-null  int64  \n",
      " 10  Population          67768 non-null  object \n",
      " 11  Users               67768 non-null  object \n",
      "dtypes: float64(3), int64(4), object(5)\n",
      "memory usage: 21.1+ MB\n"
     ]
    }
   ],
   "source": [
    "#Correlation\n",
    "PinkCab_data.info()"
   ]
  },
  {
   "cell_type": "code",
   "execution_count": 289,
   "metadata": {},
   "outputs": [
    {
     "data": {
      "image/png": "[encoded data removed]",
      "text/plain": [
       "<Figure size 1080x720 with 2 Axes>"
      ]
     },
     "metadata": {
      "needs_background": "light"
     },
     "output_type": "display_data"
    }
   ],
   "source": [
    "plt.figure(figsize=(15,10))\n",
    "corr_m = PinkCab_data.corr()\n",
    "x = np.tri(corr_m.shape[0],k=-1)\n",
    "sns.heatmap(corr_m, annot=True, cmap=plt.cm.Reds, mask=x)\n",
    "plt.show()"
   ]
  },
  {
   "cell_type": "code",
   "execution_count": 290,
   "metadata": {},
   "outputs": [
    {
     "data": {
      "text/plain": [
       "KM_Travelled          0.928129\n",
       "Cost_of_Trip          0.922215\n",
       "Year                  0.028888\n",
       "Month                 0.027863\n",
       "Age                   0.004710\n",
       "Income_(USD/Month)    0.000725\n",
       "Name: Price_Charged, dtype: float64"
      ]
     },
     "execution_count": 290,
     "metadata": {},
     "output_type": "execute_result"
    }
   ],
   "source": [
    "corr_m['Price_Charged'].abs().sort_values(ascending=False)[1:]"
   ]
  },
  {
   "cell_type": "code",
   "execution_count": 291,
   "metadata": {},
   "outputs": [
    {
     "name": "stdout",
     "output_type": "stream",
     "text": [
      "<class 'pandas.core.frame.DataFrame'>\n",
      "MultiIndex: 219744 entries, (10411499, 51412, 'WASHINGTON DC') to (10194745, 58301, 'BOSTON MA')\n",
      "Data columns (total 12 columns):\n",
      " #   Column              Non-Null Count   Dtype  \n",
      "---  ------              --------------   -----  \n",
      " 0   Company             219744 non-null  object \n",
      " 1   KM_Travelled        219744 non-null  float64\n",
      " 2   Price_Charged       219744 non-null  float64\n",
      " 3   Cost_of_Trip        219744 non-null  float64\n",
      " 4   Month               219744 non-null  int64  \n",
      " 5   Year                219744 non-null  int64  \n",
      " 6   Payment_Mode        219744 non-null  object \n",
      " 7   Gender              219744 non-null  object \n",
      " 8   Age                 219744 non-null  int64  \n",
      " 9   Income_(USD/Month)  219744 non-null  int64  \n",
      " 10  Population          219744 non-null  object \n",
      " 11  Users               219744 non-null  object \n",
      "dtypes: float64(3), int64(4), object(5)\n",
      "memory usage: 36.3+ MB\n"
     ]
    }
   ],
   "source": [
    "#Correlation\n",
    "YellowCab_data.info()"
   ]
  },
  {
   "cell_type": "code",
   "execution_count": 292,
   "metadata": {},
   "outputs": [
    {
     "data": {
      "image/png": "[encoded data removed]",
      "text/plain": [
       "<Figure size 1080x720 with 2 Axes>"
      ]
     },
     "metadata": {
      "needs_background": "light"
     },
     "output_type": "display_data"
    }
   ],
   "source": [
    "plt.figure(figsize=(15,10))\n",
    "corr_m = YellowCab_data.corr()\n",
    "x = np.tri(corr_m.shape[0],k=-1)\n",
    "sns.heatmap(corr_m, annot=True, cmap=plt.cm.Reds, mask=x)\n",
    "plt.show()"
   ]
  },
  {
   "cell_type": "code",
   "execution_count": 293,
   "metadata": {},
   "outputs": [
    {
     "data": {
      "text/plain": [
       "KM_Travelled          0.859776\n",
       "Cost_of_Trip          0.854154\n",
       "Month                 0.066689\n",
       "Year                  0.036652\n",
       "Income_(USD/Month)    0.003925\n",
       "Age                   0.003007\n",
       "Name: Price_Charged, dtype: float64"
      ]
     },
     "execution_count": 293,
     "metadata": {},
     "output_type": "execute_result"
    }
   ],
   "source": [
    "corr_m['Price_Charged'].abs().sort_values(ascending=False)[1:]"
   ]
  },
  {
   "cell_type": "code",
   "execution_count": 294,
   "metadata": {},
   "outputs": [],
   "source": [
    "#From the correlation, we can see KM travelled is correlated with Price Charged,\n",
    "#followed by Cost of trip.\n",
    "#Year,Month,Age,Income are not correlated."
   ]
  },
  {
   "cell_type": "code",
   "execution_count": 295,
   "metadata": {},
   "outputs": [],
   "source": [
    "#Model Building"
   ]
  },
  {
   "cell_type": "code",
   "execution_count": 296,
   "metadata": {},
   "outputs": [],
   "source": [
    "#Linear Regression"
   ]
  },
  {
   "cell_type": "code",
   "execution_count": 297,
   "metadata": {},
   "outputs": [],
   "source": [
    "from sklearn.linear_model import LinearRegression\n",
    "from sklearn.model_selection import cross_val_score"
   ]
  },
  {
   "cell_type": "code",
   "execution_count": 298,
   "metadata": {},
   "outputs": [],
   "source": [
    "#Yellow Cab\n",
    "X_trainu, X_testu, y_trainu, y_testu = train_test_split(YellowCab_X, YellowCab_y, test_size=0.3, random_state=42)"
   ]
  },
  {
   "cell_type": "code",
   "execution_count": 299,
   "metadata": {},
   "outputs": [
    {
     "name": "stdout",
     "output_type": "stream",
     "text": [
      "Train RMSE score : 145.45357735978953\n",
      "Test score : 146.20546493093306\n"
     ]
    }
   ],
   "source": [
    "lin_reg_YellowCab = LinearRegression()\n",
    "lin_reg_YellowCab.fit(X_trainu, y_trainu)\n",
    "\n",
    "# print(f'Train score : {lin_reg_YellowCab.score(X_trainu, y_trainu)}')\n",
    "print(f'Train RMSE score : {np.sqrt(mean_squared_error(y_trainu, lin_reg_YellowCab.predict(X_trainu)))}')\n",
    "predicted = lin_reg_YellowCab.predict(X_testu)\n",
    "rmse = np.sqrt(mean_squared_error(y_testu, predicted))\n",
    "print(f'Test score : {rmse}')"
   ]
  },
  {
   "cell_type": "code",
   "execution_count": 300,
   "metadata": {},
   "outputs": [
    {
     "data": {
      "text/plain": [
       "{'Train': 145.4599, 'Test': 146.1994}"
      ]
     },
     "execution_count": 300,
     "metadata": {},
     "output_type": "execute_result"
    }
   ],
   "source": [
    "train_cv = cross_val_score(LinearRegression(), X_trainu, y_trainu, cv=5, n_jobs=-1,scoring='neg_mean_squared_error')\n",
    "train_rmse = np.sqrt(np.abs(train_cv)).mean()\n",
    "\n",
    "test_cv = cross_val_score(LinearRegression(), X_testu, y_testu, cv=5, n_jobs=-1,scoring='neg_mean_squared_error')\n",
    "test_rmse = np.sqrt(np.abs(test_cv)).mean()\n",
    "\n",
    "l_reg_YellowCab = {}\n",
    "l_reg_YellowCab['Train'] = round(train_rmse, 4)\n",
    "l_reg_YellowCab['Test'] = round(test_rmse, 4)\n",
    "l_reg_YellowCab"
   ]
  },
  {
   "cell_type": "code",
   "execution_count": 301,
   "metadata": {},
   "outputs": [
    {
     "data": {
      "text/plain": [
       "LinearRegression()"
      ]
     },
     "execution_count": 301,
     "metadata": {},
     "output_type": "execute_result"
    }
   ],
   "source": [
    "model = LinearRegression()\n",
    "model.fit(X_trainu, y_trainu)"
   ]
  },
  {
   "cell_type": "code",
   "execution_count": 302,
   "metadata": {},
   "outputs": [
    {
     "name": "stdout",
     "output_type": "stream",
     "text": [
      "The accuracy is: 79.53544998731715%\n"
     ]
    }
   ],
   "source": [
    "accuracyl_YellowCab = model.score(X_testu,y_testu)\n",
    "print('The accuracy is: ' + str(accuracy *100) + '%')"
   ]
  },
  {
   "cell_type": "code",
   "execution_count": 303,
   "metadata": {},
   "outputs": [],
   "source": [
    "#Pink Cab\n",
    "X_trainl, X_testl, y_trainl, y_testl = train_test_split(PinkCab_X, PinkCab_y, test_size=0.3, random_state=42)"
   ]
  },
  {
   "cell_type": "code",
   "execution_count": 304,
   "metadata": {},
   "outputs": [
    {
     "name": "stdout",
     "output_type": "stream",
     "text": [
      "Train RMSE score : 67.2274905248551\n",
      "Test score : 67.92057997441016\n"
     ]
    }
   ],
   "source": [
    "lin_reg_PinkCab = LinearRegression()\n",
    "lin_reg_PinkCab.fit(X_trainl, y_trainl)\n",
    "\n",
    "# print(f'Train score : {lin_reg_PinkCab.score(X_trainl, y_trainl)}')\n",
    "print(f'Train RMSE score : {np.sqrt(mean_squared_error(y_trainl, lin_reg_PinkCab.predict(X_trainl)))}')\n",
    "predicted = lin_reg_PinkCab.predict(X_testl)\n",
    "rmse = np.sqrt(mean_squared_error(y_testl, predicted))\n",
    "print(f'Test score : {rmse}')"
   ]
  },
  {
   "cell_type": "code",
   "execution_count": 305,
   "metadata": {},
   "outputs": [
    {
     "data": {
      "text/plain": [
       "{'Train': 67.2351, 'Test': 67.9136}"
      ]
     },
     "execution_count": 305,
     "metadata": {},
     "output_type": "execute_result"
    }
   ],
   "source": [
    "train_cv = cross_val_score(LinearRegression(), X_trainl, y_trainl, cv=5, n_jobs=-1,scoring='neg_mean_squared_error')\n",
    "train_rmse = np.sqrt(np.abs(train_cv)).mean()\n",
    "\n",
    "test_cv = cross_val_score(LinearRegression(), X_testl, y_testl, cv=5, n_jobs=-1,scoring='neg_mean_squared_error')\n",
    "test_rmse = np.sqrt(np.abs(test_cv)).mean()\n",
    "\n",
    "l_reg_PinkCab = {}\n",
    "l_reg_PinkCab['Train'] = round(train_rmse, 4)\n",
    "l_reg_PinkCab['Test'] = round(test_rmse, 4)\n",
    "l_reg_PinkCab"
   ]
  },
  {
   "cell_type": "code",
   "execution_count": 306,
   "metadata": {},
   "outputs": [
    {
     "data": {
      "text/plain": [
       "LinearRegression()"
      ]
     },
     "execution_count": 306,
     "metadata": {},
     "output_type": "execute_result"
    }
   ],
   "source": [
    "model = LinearRegression()\n",
    "model.fit(X_trainl, y_trainl)"
   ]
  },
  {
   "cell_type": "code",
   "execution_count": 307,
   "metadata": {},
   "outputs": [
    {
     "name": "stdout",
     "output_type": "stream",
     "text": [
      "The accuracy is: 79.53544998731715%\n"
     ]
    }
   ],
   "source": [
    "accuracyl_PinkCab = model.score(X_testl,y_testl)\n",
    "print('The accuracy is: ' + str(accuracy *100) + '%')"
   ]
  },
  {
   "cell_type": "code",
   "execution_count": 308,
   "metadata": {},
   "outputs": [],
   "source": [
    "#Decision Tree"
   ]
  },
  {
   "cell_type": "code",
   "execution_count": 309,
   "metadata": {},
   "outputs": [],
   "source": [
    "from sklearn.tree import DecisionTreeRegressor\n",
    "from sklearn.metrics import roc_curve"
   ]
  },
  {
   "cell_type": "code",
   "execution_count": 310,
   "metadata": {},
   "outputs": [],
   "source": [
    "#YellowCab\n",
    "X_trainu, X_testu, y_trainu, y_testu = train_test_split(YellowCab_leX, YellowCab_ley, test_size=0.3, random_state=42)"
   ]
  },
  {
   "cell_type": "code",
   "execution_count": 311,
   "metadata": {},
   "outputs": [
    {
     "name": "stdout",
     "output_type": "stream",
     "text": [
      "Train score : 0.0\n",
      "Test score : 107.38901959911598\n"
     ]
    }
   ],
   "source": [
    "dtree = DecisionTreeRegressor()\n",
    "\n",
    "dtree.fit(X_trainu, y_trainu)\n",
    "\n",
    "train_pred = dtree.predict(X_trainu)\n",
    "\n",
    "tr_rmse = np.sqrt(mean_squared_error(y_trainu, train_pred))\n",
    "print(f'Train score : {tr_rmse}')\n",
    "predicted = dtree.predict(X_testu)\n",
    "rmse = np.sqrt(mean_squared_error(y_testu, predicted))\n",
    "print(f'Test score : {rmse}')"
   ]
  },
  {
   "cell_type": "code",
   "execution_count": 312,
   "metadata": {},
   "outputs": [],
   "source": [
    "max_depth = range(1,20)\n",
    "train_results = []\n",
    "test_results = []\n",
    "for n in max_depth:\n",
    "    dt = DecisionTreeRegressor(max_depth=n)\n",
    "    dt.fit(X_trainu, y_trainu)\n",
    "    train_pred = dt.predict(X_trainu)\n",
    "    rmse = np.sqrt(mean_squared_error(y_trainu, train_pred))\n",
    "    train_results.append(rmse)\n",
    "    y_pred = dt.predict(X_testu)\n",
    "    ts_rmse = np.sqrt(mean_squared_error(y_testu, y_pred))\n",
    "    test_results.append(ts_rmse)"
   ]
  },
  {
   "cell_type": "code",
   "execution_count": 313,
   "metadata": {},
   "outputs": [
    {
     "data": {
      "image/png": "[encoded data removed]",
      "text/plain": [
       "<Figure size 432x288 with 1 Axes>"
      ]
     },
     "metadata": {
      "needs_background": "light"
     },
     "output_type": "display_data"
    }
   ],
   "source": [
    "from matplotlib.legend_handler import HandlerLine2D\n",
    "line1, = plt.plot(max_depth, train_results, 'b', label='Train RMSE')\n",
    "line2, = plt.plot(max_depth, test_results, 'r--', label='Test RMSE')\n",
    "plt.legend(handler_map={line1: HandlerLine2D(numpoints=2)})\n",
    "plt.ylabel('RMSE score')\n",
    "plt.xlabel('Tree depth')\n",
    "plt.show()"
   ]
  },
  {
   "cell_type": "code",
   "execution_count": 314,
   "metadata": {},
   "outputs": [
    {
     "name": "stdout",
     "output_type": "stream",
     "text": [
      "Train score : 95.37274326703752\n",
      "Test score : 95.70676224817525\n"
     ]
    }
   ],
   "source": [
    "dtree = DecisionTreeRegressor(max_depth=5)\n",
    "\n",
    "dtree.fit(X_trainu, y_trainu)\n",
    "\n",
    "train_pred = dtree.predict(X_trainu)\n",
    "\n",
    "tr_rmse = np.sqrt(mean_squared_error(y_trainu, train_pred))\n",
    "print(f'Train score : {tr_rmse}')\n",
    "predicted = dtree.predict(X_testu)\n",
    "rmse = np.sqrt(mean_squared_error(y_testu, predicted))\n",
    "print(f'Test score : {rmse}')"
   ]
  },
  {
   "cell_type": "code",
   "execution_count": 315,
   "metadata": {},
   "outputs": [
    {
     "data": {
      "text/plain": [
       "{'Train': 107.3967, 'Test': 109.458}"
      ]
     },
     "execution_count": 315,
     "metadata": {},
     "output_type": "execute_result"
    }
   ],
   "source": [
    "train_cv = cross_val_score(DecisionTreeRegressor(), X_trainu, y_trainu, cv=5, n_jobs=-1,scoring='neg_mean_squared_error')\n",
    "train_rmse = np.sqrt(np.abs(train_cv)).mean()\n",
    "\n",
    "test_cv = cross_val_score(DecisionTreeRegressor(), X_testu, y_testu, cv=5, n_jobs=-1,scoring='neg_mean_squared_error')\n",
    "test_rmse = np.sqrt(np.abs(test_cv)).mean()\n",
    "\n",
    "dt_reg_YellowCab = {}\n",
    "dt_reg_YellowCab['Train'] = round(train_rmse, 4)\n",
    "dt_reg_YellowCab['Test'] = round(test_rmse, 4)\n",
    "dt_reg_YellowCab"
   ]
  },
  {
   "cell_type": "code",
   "execution_count": 316,
   "metadata": {},
   "outputs": [
    {
     "data": {
      "text/plain": [
       "DecisionTreeRegressor()"
      ]
     },
     "execution_count": 316,
     "metadata": {},
     "output_type": "execute_result"
    }
   ],
   "source": [
    "model = DecisionTreeRegressor()\n",
    "model.fit(X_trainu, y_trainu)"
   ]
  },
  {
   "cell_type": "code",
   "execution_count": 317,
   "metadata": {},
   "outputs": [
    {
     "name": "stdout",
     "output_type": "stream",
     "text": [
      "The accuracy is: 79.53544998731715%\n"
     ]
    }
   ],
   "source": [
    "accuracyd_YellowCab = model.score(X_testu,y_testu)\n",
    "print('The accuracy is: ' + str(accuracy *100) + '%')"
   ]
  },
  {
   "cell_type": "code",
   "execution_count": 318,
   "metadata": {},
   "outputs": [],
   "source": [
    "#Pink Cab\n",
    "X_trainl, X_testl, y_trainl, y_testl = train_test_split(PinkCab_leX, PinkCab_ley, test_size=0.3, random_state=42)"
   ]
  },
  {
   "cell_type": "code",
   "execution_count": 319,
   "metadata": {},
   "outputs": [
    {
     "name": "stdout",
     "output_type": "stream",
     "text": [
      "Train score : 65.6478538497753\n",
      "Test score : 67.71697075737548\n"
     ]
    }
   ],
   "source": [
    "dtree = DecisionTreeRegressor(max_depth=5)\n",
    "\n",
    "dtree.fit(X_trainl, y_trainl)\n",
    "\n",
    "train_pred = dtree.predict(X_trainl)\n",
    "\n",
    "tr_rmse = np.sqrt(mean_squared_error(y_trainl, train_pred))\n",
    "print(f'Train score : {tr_rmse}')\n",
    "predicted = dtree.predict(X_testl)\n",
    "rmse = np.sqrt(mean_squared_error(y_testl, predicted))\n",
    "print(f'Test score : {rmse}')"
   ]
  },
  {
   "cell_type": "code",
   "execution_count": 320,
   "metadata": {},
   "outputs": [
    {
     "data": {
      "text/plain": [
       "{'Train': 80.7492, 'Test': 84.4882}"
      ]
     },
     "execution_count": 320,
     "metadata": {},
     "output_type": "execute_result"
    }
   ],
   "source": [
    "train_cv = cross_val_score(DecisionTreeRegressor(), X_trainl, y_trainl, cv=5, n_jobs=-1,scoring='neg_mean_squared_error')\n",
    "train_rmse = np.sqrt(np.abs(train_cv)).mean()\n",
    "\n",
    "test_cv = cross_val_score(DecisionTreeRegressor(), X_testl, y_testl, cv=5, n_jobs=-1,scoring='neg_mean_squared_error')\n",
    "test_rmse = np.sqrt(np.abs(test_cv)).mean()\n",
    "\n",
    "dt_reg_PinkCab = {}\n",
    "dt_reg_PinkCab['Train'] = round(train_rmse, 4)\n",
    "dt_reg_PinkCab['Test'] = round(test_rmse, 4)\n",
    "dt_reg_PinkCab"
   ]
  },
  {
   "cell_type": "code",
   "execution_count": 321,
   "metadata": {},
   "outputs": [
    {
     "data": {
      "text/plain": [
       "DecisionTreeRegressor()"
      ]
     },
     "execution_count": 321,
     "metadata": {},
     "output_type": "execute_result"
    }
   ],
   "source": [
    "model = DecisionTreeRegressor()\n",
    "model.fit(X_trainl, y_trainl)"
   ]
  },
  {
   "cell_type": "code",
   "execution_count": 322,
   "metadata": {},
   "outputs": [
    {
     "name": "stdout",
     "output_type": "stream",
     "text": [
      "The accuracy is: 79.53544998731715%\n"
     ]
    }
   ],
   "source": [
    "accuracyd_PinkCab = model.score(X_testl,y_testl)\n",
    "print('The accuracy is: ' + str(accuracy *100) + '%')"
   ]
  },
  {
   "cell_type": "code",
   "execution_count": 323,
   "metadata": {},
   "outputs": [],
   "source": [
    "#Random Forest\n",
    "from sklearn.ensemble import RandomForestRegressor"
   ]
  },
  {
   "cell_type": "code",
   "execution_count": 324,
   "metadata": {},
   "outputs": [],
   "source": [
    "#Yellow Cab\n",
    "X_trainu, X_testu, y_trainu, y_testu = train_test_split(YellowCab_leX, YellowCab_ley, test_size=0.3, random_state=42)"
   ]
  },
  {
   "cell_type": "code",
   "execution_count": 325,
   "metadata": {},
   "outputs": [
    {
     "name": "stdout",
     "output_type": "stream",
     "text": [
      "Train score : 28.714092703615776\n",
      "Test score : 77.09513584259375\n"
     ]
    }
   ],
   "source": [
    "rf = RandomForestRegressor(n_estimators = 100, random_state = 0)\n",
    "rf.fit(X_trainu, y_trainu)\n",
    "\n",
    "train_pred = rf.predict(X_trainu)\n",
    "\n",
    "tr_rmse = np.sqrt(mean_squared_error(y_trainu, train_pred))\n",
    "print(f'Train score : {tr_rmse}')\n",
    "predicted = rf.predict(X_testu)\n",
    "rmse = np.sqrt(mean_squared_error(y_testu, predicted))\n",
    "print(f'Test score : {rmse}')"
   ]
  },
  {
   "cell_type": "code",
   "execution_count": 326,
   "metadata": {},
   "outputs": [
    {
     "data": {
      "text/plain": [
       "{'Train': 77.2731, 'Test': 78.4734}"
      ]
     },
     "execution_count": 326,
     "metadata": {},
     "output_type": "execute_result"
    }
   ],
   "source": [
    "train_cv = cross_val_score(RandomForestRegressor(), X_trainu, y_trainu, cv=5, n_jobs=-1,scoring='neg_mean_squared_error')\n",
    "train_rmse = np.sqrt(np.abs(train_cv)).mean()\n",
    "\n",
    "test_cv = cross_val_score(RandomForestRegressor(), X_testu, y_testu, cv=5, n_jobs=-1,scoring='neg_mean_squared_error')\n",
    "test_rmse = np.sqrt(np.abs(test_cv)).mean()\n",
    "\n",
    "rf_reg_YellowCab = {}\n",
    "rf_reg_YellowCab['Train'] = round(train_rmse, 4)\n",
    "rf_reg_YellowCab['Test'] = round(test_rmse, 4)\n",
    "rf_reg_YellowCab"
   ]
  },
  {
   "cell_type": "code",
   "execution_count": 327,
   "metadata": {},
   "outputs": [
    {
     "data": {
      "text/plain": [
       "RandomForestRegressor()"
      ]
     },
     "execution_count": 327,
     "metadata": {},
     "output_type": "execute_result"
    }
   ],
   "source": [
    "model = RandomForestRegressor()\n",
    "model.fit(X_trainu, y_trainu)"
   ]
  },
  {
   "cell_type": "code",
   "execution_count": 328,
   "metadata": {},
   "outputs": [
    {
     "name": "stdout",
     "output_type": "stream",
     "text": [
      "The accuracy is: 79.53544998731715%\n"
     ]
    }
   ],
   "source": [
    "accuracyr_YellowCab = model.score(X_testu,y_testu)\n",
    "print('The accuracy is: ' + str(accuracy *100) + '%')"
   ]
  },
  {
   "cell_type": "code",
   "execution_count": 329,
   "metadata": {},
   "outputs": [],
   "source": [
    "#Pink Cab\n",
    "X_trainl, X_testl, y_trainl, y_testl = train_test_split(PinkCab_leX, PinkCab_ley, test_size=0.3, random_state=42)"
   ]
  },
  {
   "cell_type": "code",
   "execution_count": 330,
   "metadata": {},
   "outputs": [
    {
     "name": "stdout",
     "output_type": "stream",
     "text": [
      "Train score : 21.451967760297414\n",
      "Test score : 58.73671832322166\n"
     ]
    }
   ],
   "source": [
    "rf = RandomForestRegressor()\n",
    "rf.fit(X_trainl, y_trainl)\n",
    "\n",
    "train_pred = rf.predict(X_trainl)\n",
    "\n",
    "tr_rmse = np.sqrt(mean_squared_error(y_trainl, train_pred))\n",
    "print(f'Train score : {tr_rmse}')\n",
    "predicted = rf.predict(X_testl)\n",
    "rmse = np.sqrt(mean_squared_error(y_testl, predicted))\n",
    "print(f'Test score : {rmse}')"
   ]
  },
  {
   "cell_type": "code",
   "execution_count": 331,
   "metadata": {},
   "outputs": [
    {
     "data": {
      "text/plain": [
       "{'Train': 57.4761, 'Test': 59.7556}"
      ]
     },
     "execution_count": 331,
     "metadata": {},
     "output_type": "execute_result"
    }
   ],
   "source": [
    "train_cv = cross_val_score(RandomForestRegressor(), X_trainl, y_trainl, cv=5, n_jobs=-1,scoring='neg_mean_squared_error')\n",
    "train_rmse = np.sqrt(np.abs(train_cv)).mean()\n",
    "\n",
    "test_cv = cross_val_score(RandomForestRegressor(), X_testl, y_testl, cv=5, n_jobs=-1,scoring='neg_mean_squared_error')\n",
    "test_rmse = np.sqrt(np.abs(test_cv)).mean()\n",
    "\n",
    "rf_reg_PinkCab = {}\n",
    "rf_reg_PinkCab['Train'] = round(train_rmse, 4)\n",
    "rf_reg_PinkCab['Test'] = round(test_rmse, 4)\n",
    "rf_reg_PinkCab"
   ]
  },
  {
   "cell_type": "code",
   "execution_count": 332,
   "metadata": {},
   "outputs": [
    {
     "data": {
      "text/plain": [
       "RandomForestRegressor()"
      ]
     },
     "execution_count": 332,
     "metadata": {},
     "output_type": "execute_result"
    }
   ],
   "source": [
    "model = RandomForestRegressor()\n",
    "model.fit(X_trainl, y_trainl)"
   ]
  },
  {
   "cell_type": "code",
   "execution_count": 333,
   "metadata": {},
   "outputs": [
    {
     "name": "stdout",
     "output_type": "stream",
     "text": [
      "The accuracy is: 79.53544998731715%\n"
     ]
    }
   ],
   "source": [
    "accuracyr_PinkCab = model.score(X_testl,y_testl)\n",
    "print('The accuracy is: ' + str(accuracy *100) + '%')"
   ]
  },
  {
   "cell_type": "code",
   "execution_count": 334,
   "metadata": {},
   "outputs": [
    {
     "data": {
      "text/html": [
       "<div>\n",
       "<style scoped>\n",
       "    .dataframe tbody tr th:only-of-type {\n",
       "        vertical-align: middle;\n",
       "    }\n",
       "\n",
       "    .dataframe tbody tr th {\n",
       "        vertical-align: top;\n",
       "    }\n",
       "\n",
       "    .dataframe thead th {\n",
       "        text-align: right;\n",
       "    }\n",
       "</style>\n",
       "<table border=\"1\" class=\"dataframe\">\n",
       "  <thead>\n",
       "    <tr style=\"text-align: right;\">\n",
       "      <th></th>\n",
       "      <th>Train</th>\n",
       "      <th>Test</th>\n",
       "    </tr>\n",
       "  </thead>\n",
       "  <tbody>\n",
       "    <tr>\n",
       "      <th>Linear Regression</th>\n",
       "      <td>145.4599</td>\n",
       "      <td>146.1994</td>\n",
       "    </tr>\n",
       "    <tr>\n",
       "      <th>Decision Tree</th>\n",
       "      <td>107.3967</td>\n",
       "      <td>109.4580</td>\n",
       "    </tr>\n",
       "    <tr>\n",
       "      <th>Random Forest</th>\n",
       "      <td>77.2731</td>\n",
       "      <td>78.4734</td>\n",
       "    </tr>\n",
       "  </tbody>\n",
       "</table>\n",
       "</div>"
      ],
      "text/plain": [
       "                      Train      Test\n",
       "Linear Regression  145.4599  146.1994\n",
       "Decision Tree      107.3967  109.4580\n",
       "Random Forest       77.2731   78.4734"
      ]
     },
     "execution_count": 334,
     "metadata": {},
     "output_type": "execute_result"
    }
   ],
   "source": [
    "final_results = pd.DataFrame([l_reg_YellowCab,dt_reg_YellowCab,\n",
    "                              rf_reg_YellowCab],\n",
    "                            index=['Linear Regression','Decision Tree','Random Forest'])\n",
    "final_results"
   ]
  },
  {
   "cell_type": "code",
   "execution_count": 335,
   "metadata": {},
   "outputs": [
    {
     "data": {
      "text/html": [
       "<div>\n",
       "<style scoped>\n",
       "    .dataframe tbody tr th:only-of-type {\n",
       "        vertical-align: middle;\n",
       "    }\n",
       "\n",
       "    .dataframe tbody tr th {\n",
       "        vertical-align: top;\n",
       "    }\n",
       "\n",
       "    .dataframe thead th {\n",
       "        text-align: right;\n",
       "    }\n",
       "</style>\n",
       "<table border=\"1\" class=\"dataframe\">\n",
       "  <thead>\n",
       "    <tr style=\"text-align: right;\">\n",
       "      <th></th>\n",
       "      <th>Train</th>\n",
       "      <th>Test</th>\n",
       "    </tr>\n",
       "  </thead>\n",
       "  <tbody>\n",
       "    <tr>\n",
       "      <th>Linear Regression</th>\n",
       "      <td>67.2351</td>\n",
       "      <td>67.9136</td>\n",
       "    </tr>\n",
       "    <tr>\n",
       "      <th>Decision Tree</th>\n",
       "      <td>80.7492</td>\n",
       "      <td>84.4882</td>\n",
       "    </tr>\n",
       "    <tr>\n",
       "      <th>Random Forest</th>\n",
       "      <td>57.4761</td>\n",
       "      <td>59.7556</td>\n",
       "    </tr>\n",
       "  </tbody>\n",
       "</table>\n",
       "</div>"
      ],
      "text/plain": [
       "                     Train     Test\n",
       "Linear Regression  67.2351  67.9136\n",
       "Decision Tree      80.7492  84.4882\n",
       "Random Forest      57.4761  59.7556"
      ]
     },
     "execution_count": 335,
     "metadata": {},
     "output_type": "execute_result"
    }
   ],
   "source": [
    "final_results = pd.DataFrame([l_reg_PinkCab,dt_reg_PinkCab,\n",
    "                              rf_reg_PinkCab],\n",
    "                            index=['Linear Regression',\n",
    "                                  'Decision Tree', 'Random Forest'])\n",
    "final_results"
   ]
  },
  {
   "cell_type": "code",
   "execution_count": 336,
   "metadata": {},
   "outputs": [
    {
     "data": {
      "text/html": [
       "<div>\n",
       "<style scoped>\n",
       "    .dataframe tbody tr th:only-of-type {\n",
       "        vertical-align: middle;\n",
       "    }\n",
       "\n",
       "    .dataframe tbody tr th {\n",
       "        vertical-align: top;\n",
       "    }\n",
       "\n",
       "    .dataframe thead th {\n",
       "        text-align: right;\n",
       "    }\n",
       "</style>\n",
       "<table border=\"1\" class=\"dataframe\">\n",
       "  <thead>\n",
       "    <tr style=\"text-align: right;\">\n",
       "      <th></th>\n",
       "      <th>Accuracy</th>\n",
       "    </tr>\n",
       "  </thead>\n",
       "  <tbody>\n",
       "    <tr>\n",
       "      <th>Linear Regression</th>\n",
       "      <td>74.43906127028283%</td>\n",
       "    </tr>\n",
       "    <tr>\n",
       "      <th>Decision Tree</th>\n",
       "      <td>86.11582117196697%</td>\n",
       "    </tr>\n",
       "    <tr>\n",
       "      <th>Random Forest</th>\n",
       "      <td>92.85776861169764%</td>\n",
       "    </tr>\n",
       "  </tbody>\n",
       "</table>\n",
       "</div>"
      ],
      "text/plain": [
       "                             Accuracy\n",
       "Linear Regression  74.43906127028283%\n",
       "Decision Tree      86.11582117196697%\n",
       "Random Forest      92.85776861169764%"
      ]
     },
     "execution_count": 336,
     "metadata": {},
     "output_type": "execute_result"
    }
   ],
   "source": [
    "final_results = pd.DataFrame([str(accuracyl_YellowCab *100) + '%', str(accuracyd_YellowCab *100) + '%',str(accuracyr_YellowCab *100) + '%'],\n",
    "                            index=['Linear Regression',\n",
    "                                  'Decision Tree', 'Random Forest'],columns=['Accuracy'])\n",
    "final_results"
   ]
  },
  {
   "cell_type": "code",
   "execution_count": 337,
   "metadata": {},
   "outputs": [
    {
     "data": {
      "text/html": [
       "<div>\n",
       "<style scoped>\n",
       "    .dataframe tbody tr th:only-of-type {\n",
       "        vertical-align: middle;\n",
       "    }\n",
       "\n",
       "    .dataframe tbody tr th {\n",
       "        vertical-align: top;\n",
       "    }\n",
       "\n",
       "    .dataframe thead th {\n",
       "        text-align: right;\n",
       "    }\n",
       "</style>\n",
       "<table border=\"1\" class=\"dataframe\">\n",
       "  <thead>\n",
       "    <tr style=\"text-align: right;\">\n",
       "      <th></th>\n",
       "      <th>Accuracy</th>\n",
       "    </tr>\n",
       "  </thead>\n",
       "  <tbody>\n",
       "    <tr>\n",
       "      <th>Linear Regression</th>\n",
       "      <td>86.06270464033021%</td>\n",
       "    </tr>\n",
       "    <tr>\n",
       "      <th>Decision Tree</th>\n",
       "      <td>79.66683587364297%</td>\n",
       "    </tr>\n",
       "    <tr>\n",
       "      <th>Random Forest</th>\n",
       "      <td>89.78196675241622%</td>\n",
       "    </tr>\n",
       "  </tbody>\n",
       "</table>\n",
       "</div>"
      ],
      "text/plain": [
       "                             Accuracy\n",
       "Linear Regression  86.06270464033021%\n",
       "Decision Tree      79.66683587364297%\n",
       "Random Forest      89.78196675241622%"
      ]
     },
     "execution_count": 337,
     "metadata": {},
     "output_type": "execute_result"
    }
   ],
   "source": [
    "final_results = pd.DataFrame([str(accuracyl_PinkCab *100) + '%', str(accuracyd_PinkCab *100) + '%',str(accuracyr_PinkCab *100) + '%'],\n",
    "             \n",
    "                             index=['Linear Regression',\n",
    "                                  'Decision Tree', 'Random Forest'],columns=['Accuracy'])\n",
    "final_results"
   ]
  },
  {
   "cell_type": "code",
   "execution_count": null,
   "metadata": {},
   "outputs": [],
   "source": []
  }
 ],
 "metadata": {
  "kernelspec": {
   "display_name": "Python 3",
   "language": "python",
   "name": "python3"
  },
  "language_info": {
   "codemirror_mode": {
    "name": "ipython",
    "version": 3
   },
   "file_extension": ".py",
   "mimetype": "text/x-python",
   "name": "python",
   "nbconvert_exporter": "python",
   "pygments_lexer": "ipython3",
   "version": "3.8.5"
  }
 },
 "nbformat": 4,
 "nbformat_minor": 4
}
